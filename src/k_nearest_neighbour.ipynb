{
 "cells": [
  {
   "cell_type": "markdown",
   "id": "a0f52d36",
   "metadata": {},
   "source": [
    "### Read data from csv"
   ]
  },
  {
   "cell_type": "code",
   "execution_count": 2,
   "id": "74fee80f",
   "metadata": {},
   "outputs": [
    {
     "data": {
      "text/html": [
       "<div>\n",
       "<style scoped>\n",
       "    .dataframe tbody tr th:only-of-type {\n",
       "        vertical-align: middle;\n",
       "    }\n",
       "\n",
       "    .dataframe tbody tr th {\n",
       "        vertical-align: top;\n",
       "    }\n",
       "\n",
       "    .dataframe thead th {\n",
       "        text-align: right;\n",
       "    }\n",
       "</style>\n",
       "<table border=\"1\" class=\"dataframe\">\n",
       "  <thead>\n",
       "    <tr style=\"text-align: right;\">\n",
       "      <th></th>\n",
       "      <th>age</th>\n",
       "      <th>sex</th>\n",
       "      <th>on thyroxine</th>\n",
       "      <th>query on thyroxine</th>\n",
       "      <th>on antithyroid medication</th>\n",
       "      <th>sick</th>\n",
       "      <th>pregnant</th>\n",
       "      <th>thyroid surgery</th>\n",
       "      <th>I131 treatment</th>\n",
       "      <th>query hypothyroid</th>\n",
       "      <th>...</th>\n",
       "      <th>TT4 measured</th>\n",
       "      <th>TT4</th>\n",
       "      <th>T4U measured</th>\n",
       "      <th>T4U</th>\n",
       "      <th>FTI measured</th>\n",
       "      <th>FTI</th>\n",
       "      <th>TBG measured</th>\n",
       "      <th>TBG</th>\n",
       "      <th>referral source</th>\n",
       "      <th>binaryClass</th>\n",
       "    </tr>\n",
       "  </thead>\n",
       "  <tbody>\n",
       "    <tr>\n",
       "      <th>0</th>\n",
       "      <td>41</td>\n",
       "      <td>F</td>\n",
       "      <td>f</td>\n",
       "      <td>f</td>\n",
       "      <td>f</td>\n",
       "      <td>f</td>\n",
       "      <td>f</td>\n",
       "      <td>f</td>\n",
       "      <td>f</td>\n",
       "      <td>f</td>\n",
       "      <td>...</td>\n",
       "      <td>t</td>\n",
       "      <td>125</td>\n",
       "      <td>t</td>\n",
       "      <td>1.14</td>\n",
       "      <td>t</td>\n",
       "      <td>109</td>\n",
       "      <td>f</td>\n",
       "      <td>?</td>\n",
       "      <td>SVHC</td>\n",
       "      <td>P</td>\n",
       "    </tr>\n",
       "    <tr>\n",
       "      <th>1</th>\n",
       "      <td>23</td>\n",
       "      <td>F</td>\n",
       "      <td>f</td>\n",
       "      <td>f</td>\n",
       "      <td>f</td>\n",
       "      <td>f</td>\n",
       "      <td>f</td>\n",
       "      <td>f</td>\n",
       "      <td>f</td>\n",
       "      <td>f</td>\n",
       "      <td>...</td>\n",
       "      <td>t</td>\n",
       "      <td>102</td>\n",
       "      <td>f</td>\n",
       "      <td>?</td>\n",
       "      <td>f</td>\n",
       "      <td>?</td>\n",
       "      <td>f</td>\n",
       "      <td>?</td>\n",
       "      <td>other</td>\n",
       "      <td>P</td>\n",
       "    </tr>\n",
       "    <tr>\n",
       "      <th>2</th>\n",
       "      <td>46</td>\n",
       "      <td>M</td>\n",
       "      <td>f</td>\n",
       "      <td>f</td>\n",
       "      <td>f</td>\n",
       "      <td>f</td>\n",
       "      <td>f</td>\n",
       "      <td>f</td>\n",
       "      <td>f</td>\n",
       "      <td>f</td>\n",
       "      <td>...</td>\n",
       "      <td>t</td>\n",
       "      <td>109</td>\n",
       "      <td>t</td>\n",
       "      <td>0.91</td>\n",
       "      <td>t</td>\n",
       "      <td>120</td>\n",
       "      <td>f</td>\n",
       "      <td>?</td>\n",
       "      <td>other</td>\n",
       "      <td>P</td>\n",
       "    </tr>\n",
       "    <tr>\n",
       "      <th>3</th>\n",
       "      <td>70</td>\n",
       "      <td>F</td>\n",
       "      <td>t</td>\n",
       "      <td>f</td>\n",
       "      <td>f</td>\n",
       "      <td>f</td>\n",
       "      <td>f</td>\n",
       "      <td>f</td>\n",
       "      <td>f</td>\n",
       "      <td>f</td>\n",
       "      <td>...</td>\n",
       "      <td>t</td>\n",
       "      <td>175</td>\n",
       "      <td>f</td>\n",
       "      <td>?</td>\n",
       "      <td>f</td>\n",
       "      <td>?</td>\n",
       "      <td>f</td>\n",
       "      <td>?</td>\n",
       "      <td>other</td>\n",
       "      <td>P</td>\n",
       "    </tr>\n",
       "    <tr>\n",
       "      <th>4</th>\n",
       "      <td>70</td>\n",
       "      <td>F</td>\n",
       "      <td>f</td>\n",
       "      <td>f</td>\n",
       "      <td>f</td>\n",
       "      <td>f</td>\n",
       "      <td>f</td>\n",
       "      <td>f</td>\n",
       "      <td>f</td>\n",
       "      <td>f</td>\n",
       "      <td>...</td>\n",
       "      <td>t</td>\n",
       "      <td>61</td>\n",
       "      <td>t</td>\n",
       "      <td>0.87</td>\n",
       "      <td>t</td>\n",
       "      <td>70</td>\n",
       "      <td>f</td>\n",
       "      <td>?</td>\n",
       "      <td>SVI</td>\n",
       "      <td>P</td>\n",
       "    </tr>\n",
       "  </tbody>\n",
       "</table>\n",
       "<p>5 rows × 30 columns</p>\n",
       "</div>"
      ],
      "text/plain": [
       "  age sex on thyroxine query on thyroxine on antithyroid medication sick  \\\n",
       "0  41   F            f                  f                         f    f   \n",
       "1  23   F            f                  f                         f    f   \n",
       "2  46   M            f                  f                         f    f   \n",
       "3  70   F            t                  f                         f    f   \n",
       "4  70   F            f                  f                         f    f   \n",
       "\n",
       "  pregnant thyroid surgery I131 treatment query hypothyroid  ... TT4 measured  \\\n",
       "0        f               f              f                 f  ...            t   \n",
       "1        f               f              f                 f  ...            t   \n",
       "2        f               f              f                 f  ...            t   \n",
       "3        f               f              f                 f  ...            t   \n",
       "4        f               f              f                 f  ...            t   \n",
       "\n",
       "   TT4 T4U measured   T4U FTI measured  FTI TBG measured TBG referral source  \\\n",
       "0  125            t  1.14            t  109            f   ?            SVHC   \n",
       "1  102            f     ?            f    ?            f   ?           other   \n",
       "2  109            t  0.91            t  120            f   ?           other   \n",
       "3  175            f     ?            f    ?            f   ?           other   \n",
       "4   61            t  0.87            t   70            f   ?             SVI   \n",
       "\n",
       "  binaryClass  \n",
       "0           P  \n",
       "1           P  \n",
       "2           P  \n",
       "3           P  \n",
       "4           P  \n",
       "\n",
       "[5 rows x 30 columns]"
      ]
     },
     "execution_count": 2,
     "metadata": {},
     "output_type": "execute_result"
    }
   ],
   "source": [
    "hypothyroid_df  = pd.read_csv('C:/Users/User/Downloads/hypothyroid.csv')\n",
    "# Checking the head of the set\n",
    "hypothyroid_df.head()"
   ]
  },
  {
   "cell_type": "code",
   "execution_count": 3,
   "id": "58cda916",
   "metadata": {},
   "outputs": [
    {
     "data": {
      "text/html": [
       "<div>\n",
       "<style scoped>\n",
       "    .dataframe tbody tr th:only-of-type {\n",
       "        vertical-align: middle;\n",
       "    }\n",
       "\n",
       "    .dataframe tbody tr th {\n",
       "        vertical-align: top;\n",
       "    }\n",
       "\n",
       "    .dataframe thead th {\n",
       "        text-align: right;\n",
       "    }\n",
       "</style>\n",
       "<table border=\"1\" class=\"dataframe\">\n",
       "  <thead>\n",
       "    <tr style=\"text-align: right;\">\n",
       "      <th></th>\n",
       "      <th>age</th>\n",
       "      <th>sex</th>\n",
       "      <th>on thyroxine</th>\n",
       "      <th>query on thyroxine</th>\n",
       "      <th>on antithyroid medication</th>\n",
       "      <th>sick</th>\n",
       "      <th>pregnant</th>\n",
       "      <th>thyroid surgery</th>\n",
       "      <th>I131 treatment</th>\n",
       "      <th>query hypothyroid</th>\n",
       "      <th>...</th>\n",
       "      <th>TT4 measured</th>\n",
       "      <th>TT4</th>\n",
       "      <th>T4U measured</th>\n",
       "      <th>T4U</th>\n",
       "      <th>FTI measured</th>\n",
       "      <th>FTI</th>\n",
       "      <th>TBG measured</th>\n",
       "      <th>TBG</th>\n",
       "      <th>referral source</th>\n",
       "      <th>binaryClass</th>\n",
       "    </tr>\n",
       "  </thead>\n",
       "  <tbody>\n",
       "    <tr>\n",
       "      <th>3767</th>\n",
       "      <td>30</td>\n",
       "      <td>F</td>\n",
       "      <td>f</td>\n",
       "      <td>f</td>\n",
       "      <td>f</td>\n",
       "      <td>f</td>\n",
       "      <td>f</td>\n",
       "      <td>f</td>\n",
       "      <td>f</td>\n",
       "      <td>f</td>\n",
       "      <td>...</td>\n",
       "      <td>f</td>\n",
       "      <td>?</td>\n",
       "      <td>f</td>\n",
       "      <td>?</td>\n",
       "      <td>f</td>\n",
       "      <td>?</td>\n",
       "      <td>f</td>\n",
       "      <td>?</td>\n",
       "      <td>other</td>\n",
       "      <td>P</td>\n",
       "    </tr>\n",
       "    <tr>\n",
       "      <th>3768</th>\n",
       "      <td>68</td>\n",
       "      <td>F</td>\n",
       "      <td>f</td>\n",
       "      <td>f</td>\n",
       "      <td>f</td>\n",
       "      <td>f</td>\n",
       "      <td>f</td>\n",
       "      <td>f</td>\n",
       "      <td>f</td>\n",
       "      <td>f</td>\n",
       "      <td>...</td>\n",
       "      <td>t</td>\n",
       "      <td>124</td>\n",
       "      <td>t</td>\n",
       "      <td>1.08</td>\n",
       "      <td>t</td>\n",
       "      <td>114</td>\n",
       "      <td>f</td>\n",
       "      <td>?</td>\n",
       "      <td>SVI</td>\n",
       "      <td>P</td>\n",
       "    </tr>\n",
       "    <tr>\n",
       "      <th>3769</th>\n",
       "      <td>74</td>\n",
       "      <td>F</td>\n",
       "      <td>f</td>\n",
       "      <td>f</td>\n",
       "      <td>f</td>\n",
       "      <td>f</td>\n",
       "      <td>f</td>\n",
       "      <td>f</td>\n",
       "      <td>f</td>\n",
       "      <td>f</td>\n",
       "      <td>...</td>\n",
       "      <td>t</td>\n",
       "      <td>112</td>\n",
       "      <td>t</td>\n",
       "      <td>1.07</td>\n",
       "      <td>t</td>\n",
       "      <td>105</td>\n",
       "      <td>f</td>\n",
       "      <td>?</td>\n",
       "      <td>other</td>\n",
       "      <td>P</td>\n",
       "    </tr>\n",
       "    <tr>\n",
       "      <th>3770</th>\n",
       "      <td>72</td>\n",
       "      <td>M</td>\n",
       "      <td>f</td>\n",
       "      <td>f</td>\n",
       "      <td>f</td>\n",
       "      <td>f</td>\n",
       "      <td>f</td>\n",
       "      <td>f</td>\n",
       "      <td>f</td>\n",
       "      <td>f</td>\n",
       "      <td>...</td>\n",
       "      <td>t</td>\n",
       "      <td>82</td>\n",
       "      <td>t</td>\n",
       "      <td>0.94</td>\n",
       "      <td>t</td>\n",
       "      <td>87</td>\n",
       "      <td>f</td>\n",
       "      <td>?</td>\n",
       "      <td>SVI</td>\n",
       "      <td>P</td>\n",
       "    </tr>\n",
       "    <tr>\n",
       "      <th>3771</th>\n",
       "      <td>64</td>\n",
       "      <td>F</td>\n",
       "      <td>f</td>\n",
       "      <td>f</td>\n",
       "      <td>f</td>\n",
       "      <td>f</td>\n",
       "      <td>f</td>\n",
       "      <td>f</td>\n",
       "      <td>f</td>\n",
       "      <td>f</td>\n",
       "      <td>...</td>\n",
       "      <td>t</td>\n",
       "      <td>99</td>\n",
       "      <td>t</td>\n",
       "      <td>1.07</td>\n",
       "      <td>t</td>\n",
       "      <td>92</td>\n",
       "      <td>f</td>\n",
       "      <td>?</td>\n",
       "      <td>other</td>\n",
       "      <td>P</td>\n",
       "    </tr>\n",
       "  </tbody>\n",
       "</table>\n",
       "<p>5 rows × 30 columns</p>\n",
       "</div>"
      ],
      "text/plain": [
       "     age sex on thyroxine query on thyroxine on antithyroid medication sick  \\\n",
       "3767  30   F            f                  f                         f    f   \n",
       "3768  68   F            f                  f                         f    f   \n",
       "3769  74   F            f                  f                         f    f   \n",
       "3770  72   M            f                  f                         f    f   \n",
       "3771  64   F            f                  f                         f    f   \n",
       "\n",
       "     pregnant thyroid surgery I131 treatment query hypothyroid  ...  \\\n",
       "3767        f               f              f                 f  ...   \n",
       "3768        f               f              f                 f  ...   \n",
       "3769        f               f              f                 f  ...   \n",
       "3770        f               f              f                 f  ...   \n",
       "3771        f               f              f                 f  ...   \n",
       "\n",
       "     TT4 measured  TT4 T4U measured   T4U FTI measured  FTI TBG measured TBG  \\\n",
       "3767            f    ?            f     ?            f    ?            f   ?   \n",
       "3768            t  124            t  1.08            t  114            f   ?   \n",
       "3769            t  112            t  1.07            t  105            f   ?   \n",
       "3770            t   82            t  0.94            t   87            f   ?   \n",
       "3771            t   99            t  1.07            t   92            f   ?   \n",
       "\n",
       "     referral source binaryClass  \n",
       "3767           other           P  \n",
       "3768             SVI           P  \n",
       "3769           other           P  \n",
       "3770             SVI           P  \n",
       "3771           other           P  \n",
       "\n",
       "[5 rows x 30 columns]"
      ]
     },
     "execution_count": 3,
     "metadata": {},
     "output_type": "execute_result"
    }
   ],
   "source": [
    "# Checking the tail of the set\n",
    "hypothyroid_df.tail()"
   ]
  },
  {
   "cell_type": "code",
   "execution_count": 4,
   "id": "a19415fd",
   "metadata": {},
   "outputs": [
    {
     "data": {
      "text/plain": [
       "(3772, 30)"
      ]
     },
     "execution_count": 4,
     "metadata": {},
     "output_type": "execute_result"
    }
   ],
   "source": [
    "# shape of the dataset\n",
    "hypothyroid_df.shape"
   ]
  },
  {
   "cell_type": "code",
   "execution_count": 5,
   "id": "e693cbd5",
   "metadata": {},
   "outputs": [
    {
     "data": {
      "text/plain": [
       "113160"
      ]
     },
     "execution_count": 5,
     "metadata": {},
     "output_type": "execute_result"
    }
   ],
   "source": [
    "# size of the dataset\n",
    "hypothyroid_df.size"
   ]
  },
  {
   "cell_type": "code",
   "execution_count": 6,
   "id": "23fbef6b",
   "metadata": {},
   "outputs": [
    {
     "data": {
      "text/html": [
       "<div>\n",
       "<style scoped>\n",
       "    .dataframe tbody tr th:only-of-type {\n",
       "        vertical-align: middle;\n",
       "    }\n",
       "\n",
       "    .dataframe tbody tr th {\n",
       "        vertical-align: top;\n",
       "    }\n",
       "\n",
       "    .dataframe thead th {\n",
       "        text-align: right;\n",
       "    }\n",
       "</style>\n",
       "<table border=\"1\" class=\"dataframe\">\n",
       "  <thead>\n",
       "    <tr style=\"text-align: right;\">\n",
       "      <th></th>\n",
       "      <th>age</th>\n",
       "      <th>sex</th>\n",
       "      <th>on thyroxine</th>\n",
       "      <th>query on thyroxine</th>\n",
       "      <th>on antithyroid medication</th>\n",
       "      <th>sick</th>\n",
       "      <th>pregnant</th>\n",
       "      <th>thyroid surgery</th>\n",
       "      <th>I131 treatment</th>\n",
       "      <th>query hypothyroid</th>\n",
       "      <th>...</th>\n",
       "      <th>TT4 measured</th>\n",
       "      <th>TT4</th>\n",
       "      <th>T4U measured</th>\n",
       "      <th>T4U</th>\n",
       "      <th>FTI measured</th>\n",
       "      <th>FTI</th>\n",
       "      <th>TBG measured</th>\n",
       "      <th>TBG</th>\n",
       "      <th>referral source</th>\n",
       "      <th>binaryClass</th>\n",
       "    </tr>\n",
       "  </thead>\n",
       "  <tbody>\n",
       "    <tr>\n",
       "      <th>count</th>\n",
       "      <td>3772</td>\n",
       "      <td>3772</td>\n",
       "      <td>3772</td>\n",
       "      <td>3772</td>\n",
       "      <td>3772</td>\n",
       "      <td>3772</td>\n",
       "      <td>3772</td>\n",
       "      <td>3772</td>\n",
       "      <td>3772</td>\n",
       "      <td>3772</td>\n",
       "      <td>...</td>\n",
       "      <td>3772</td>\n",
       "      <td>3772</td>\n",
       "      <td>3772</td>\n",
       "      <td>3772</td>\n",
       "      <td>3772</td>\n",
       "      <td>3772</td>\n",
       "      <td>3772</td>\n",
       "      <td>3772</td>\n",
       "      <td>3772</td>\n",
       "      <td>3772</td>\n",
       "    </tr>\n",
       "    <tr>\n",
       "      <th>unique</th>\n",
       "      <td>94</td>\n",
       "      <td>3</td>\n",
       "      <td>2</td>\n",
       "      <td>2</td>\n",
       "      <td>2</td>\n",
       "      <td>2</td>\n",
       "      <td>2</td>\n",
       "      <td>2</td>\n",
       "      <td>2</td>\n",
       "      <td>2</td>\n",
       "      <td>...</td>\n",
       "      <td>2</td>\n",
       "      <td>242</td>\n",
       "      <td>2</td>\n",
       "      <td>147</td>\n",
       "      <td>2</td>\n",
       "      <td>235</td>\n",
       "      <td>1</td>\n",
       "      <td>1</td>\n",
       "      <td>5</td>\n",
       "      <td>2</td>\n",
       "    </tr>\n",
       "    <tr>\n",
       "      <th>top</th>\n",
       "      <td>59</td>\n",
       "      <td>F</td>\n",
       "      <td>f</td>\n",
       "      <td>f</td>\n",
       "      <td>f</td>\n",
       "      <td>f</td>\n",
       "      <td>f</td>\n",
       "      <td>f</td>\n",
       "      <td>f</td>\n",
       "      <td>f</td>\n",
       "      <td>...</td>\n",
       "      <td>t</td>\n",
       "      <td>?</td>\n",
       "      <td>t</td>\n",
       "      <td>?</td>\n",
       "      <td>t</td>\n",
       "      <td>?</td>\n",
       "      <td>f</td>\n",
       "      <td>?</td>\n",
       "      <td>other</td>\n",
       "      <td>P</td>\n",
       "    </tr>\n",
       "    <tr>\n",
       "      <th>freq</th>\n",
       "      <td>95</td>\n",
       "      <td>2480</td>\n",
       "      <td>3308</td>\n",
       "      <td>3722</td>\n",
       "      <td>3729</td>\n",
       "      <td>3625</td>\n",
       "      <td>3719</td>\n",
       "      <td>3719</td>\n",
       "      <td>3713</td>\n",
       "      <td>3538</td>\n",
       "      <td>...</td>\n",
       "      <td>3541</td>\n",
       "      <td>231</td>\n",
       "      <td>3385</td>\n",
       "      <td>387</td>\n",
       "      <td>3387</td>\n",
       "      <td>385</td>\n",
       "      <td>3772</td>\n",
       "      <td>3772</td>\n",
       "      <td>2201</td>\n",
       "      <td>3481</td>\n",
       "    </tr>\n",
       "  </tbody>\n",
       "</table>\n",
       "<p>4 rows × 30 columns</p>\n",
       "</div>"
      ],
      "text/plain": [
       "         age   sex on thyroxine query on thyroxine on antithyroid medication  \\\n",
       "count   3772  3772         3772               3772                      3772   \n",
       "unique    94     3            2                  2                         2   \n",
       "top       59     F            f                  f                         f   \n",
       "freq      95  2480         3308               3722                      3729   \n",
       "\n",
       "        sick pregnant thyroid surgery I131 treatment query hypothyroid  ...  \\\n",
       "count   3772     3772            3772           3772              3772  ...   \n",
       "unique     2        2               2              2                 2  ...   \n",
       "top        f        f               f              f                 f  ...   \n",
       "freq    3625     3719            3719           3713              3538  ...   \n",
       "\n",
       "       TT4 measured   TT4 T4U measured   T4U FTI measured   FTI TBG measured  \\\n",
       "count          3772  3772         3772  3772         3772  3772         3772   \n",
       "unique            2   242            2   147            2   235            1   \n",
       "top               t     ?            t     ?            t     ?            f   \n",
       "freq           3541   231         3385   387         3387   385         3772   \n",
       "\n",
       "         TBG referral source binaryClass  \n",
       "count   3772            3772        3772  \n",
       "unique     1               5           2  \n",
       "top        ?           other           P  \n",
       "freq    3772            2201        3481  \n",
       "\n",
       "[4 rows x 30 columns]"
      ]
     },
     "execution_count": 6,
     "metadata": {},
     "output_type": "execute_result"
    }
   ],
   "source": [
    "# Viewing the statistics of the data\n",
    "hypothyroid_df.describe()"
   ]
  },
  {
   "cell_type": "code",
   "execution_count": 7,
   "id": "cc0c0952",
   "metadata": {
    "scrolled": true
   },
   "outputs": [
    {
     "name": "stdout",
     "output_type": "stream",
     "text": [
      "<class 'pandas.core.frame.DataFrame'>\n",
      "RangeIndex: 3772 entries, 0 to 3771\n",
      "Data columns (total 30 columns):\n",
      " #   Column                     Non-Null Count  Dtype \n",
      "---  ------                     --------------  ----- \n",
      " 0   age                        3772 non-null   object\n",
      " 1   sex                        3772 non-null   object\n",
      " 2   on thyroxine               3772 non-null   object\n",
      " 3   query on thyroxine         3772 non-null   object\n",
      " 4   on antithyroid medication  3772 non-null   object\n",
      " 5   sick                       3772 non-null   object\n",
      " 6   pregnant                   3772 non-null   object\n",
      " 7   thyroid surgery            3772 non-null   object\n",
      " 8   I131 treatment             3772 non-null   object\n",
      " 9   query hypothyroid          3772 non-null   object\n",
      " 10  query hyperthyroid         3772 non-null   object\n",
      " 11  lithium                    3772 non-null   object\n",
      " 12  goitre                     3772 non-null   object\n",
      " 13  tumor                      3772 non-null   object\n",
      " 14  hypopituitary              3772 non-null   object\n",
      " 15  psych                      3772 non-null   object\n",
      " 16  TSH measured               3772 non-null   object\n",
      " 17  TSH                        3772 non-null   object\n",
      " 18  T3 measured                3772 non-null   object\n",
      " 19  T3                         3772 non-null   object\n",
      " 20  TT4 measured               3772 non-null   object\n",
      " 21  TT4                        3772 non-null   object\n",
      " 22  T4U measured               3772 non-null   object\n",
      " 23  T4U                        3772 non-null   object\n",
      " 24  FTI measured               3772 non-null   object\n",
      " 25  FTI                        3772 non-null   object\n",
      " 26  TBG measured               3772 non-null   object\n",
      " 27  TBG                        3772 non-null   object\n",
      " 28  referral source            3772 non-null   object\n",
      " 29  binaryClass                3772 non-null   object\n",
      "dtypes: object(30)\n",
      "memory usage: 884.2+ KB\n"
     ]
    }
   ],
   "source": [
    "# Checking information of the dataset\n",
    "hypothyroid_df.info()"
   ]
  },
  {
   "cell_type": "code",
   "execution_count": 8,
   "id": "27187fcd",
   "metadata": {},
   "outputs": [
    {
     "data": {
      "text/plain": [
       "age                          object\n",
       "sex                          object\n",
       "on thyroxine                 object\n",
       "query on thyroxine           object\n",
       "on antithyroid medication    object\n",
       "sick                         object\n",
       "pregnant                     object\n",
       "thyroid surgery              object\n",
       "I131 treatment               object\n",
       "query hypothyroid            object\n",
       "query hyperthyroid           object\n",
       "lithium                      object\n",
       "goitre                       object\n",
       "tumor                        object\n",
       "hypopituitary                object\n",
       "psych                        object\n",
       "TSH measured                 object\n",
       "TSH                          object\n",
       "T3 measured                  object\n",
       "T3                           object\n",
       "TT4 measured                 object\n",
       "TT4                          object\n",
       "T4U measured                 object\n",
       "T4U                          object\n",
       "FTI measured                 object\n",
       "FTI                          object\n",
       "TBG measured                 object\n",
       "TBG                          object\n",
       "referral source              object\n",
       "binaryClass                  object\n",
       "dtype: object"
      ]
     },
     "execution_count": 8,
     "metadata": {},
     "output_type": "execute_result"
    }
   ],
   "source": [
    "# Checking for the data types\n",
    "hypothyroid_df.dtypes"
   ]
  },
  {
   "cell_type": "markdown",
   "id": "760edc83",
   "metadata": {},
   "source": [
    "### Data Cleaning"
   ]
  },
  {
   "cell_type": "code",
   "execution_count": 9,
   "id": "06eceaa6",
   "metadata": {},
   "outputs": [
    {
     "name": "stdout",
     "output_type": "stream",
     "text": [
      "\t\n",
      "['41' '23' '46' '70' '18' '59' '80' '66' '68' '84' '67' '71' '28' '65'\n",
      " '42' '63' '51' '81' '54' '55' '60' '25' '73' '34' '78' '37' '85' '26'\n",
      " '58' '64' '44' '48' '61' '35' '83' '21' '87' '53' '77' '27' '69' '74'\n",
      " '38' '76' '45' '36' '22' '43' '72' '82' '31' '39' '49' '62' '57' '1' '50'\n",
      " '30' '29' '75' '19' '7' '79' '17' '24' '15' '32' '47' '16' '52' '33' '13'\n",
      " '10' '89' '56' '20' '90' '40' '88' '14' '86' '94' '12' '4' '11' '8' '5'\n",
      " '455' '2' '91' '6' '?' '93' '92']\n",
      "\t\n",
      "['F' 'M' '?']\n",
      "\t\n",
      "['f' 't']\n",
      "\t\n",
      "['f' 't']\n",
      "\t\n",
      "['f' 't']\n",
      "\t\n",
      "['f' 't']\n",
      "\t\n",
      "['f' 't']\n",
      "\t\n",
      "['f' 't']\n",
      "\t\n",
      "['f' 't']\n",
      "\t\n",
      "['f' 't']\n",
      "\t\n",
      "['f' 't']\n",
      "\t\n",
      "['f' 't']\n",
      "\t\n",
      "['f' 't']\n",
      "\t\n",
      "['f' 't']\n",
      "\t\n",
      "['f' 't']\n",
      "\t\n",
      "['f' 't']\n",
      "\t\n",
      "['t' 'f']\n",
      "\t\n",
      "['1.3' '4.1' '0.98' '0.16' '0.72' '0.03' '?' '2.2' '0.6' '2.4' '1.1' '2.8'\n",
      " '3.3' '12' '1.2' '1.5' '6' '2.1' '0.1' '0.8' '1.9' '3.1' '0.2' '13' '0.3'\n",
      " '0.035' '2.5' '0.5' '1.7' '7.3' '1.8' '0.26' '45' '5.4' '0.99' '0.25'\n",
      " '0.92' '0.15' '0.64' '1' '0.4' '2' '2.6' '14.8' '15' '19' '0.02' '3'\n",
      " '2.9' '3.2' '9' '1.6' '4.3' '0.005' '0.31' '0.61' '0.05' '7.8' '160'\n",
      " '0.025' '1.4' '0.01' '8.8' '151' '0.04' '3.9' '9.4' '2.7' '2.3' '0.94'\n",
      " '0.045' '3.5' '0.88' '0.08' '4.5' '0.68' '0.7' '0.67' '27' '6.1' '0.75'\n",
      " '0.55' '26' '5.2' '0.77' '0.07' '0.9' '11.4' '143' '0.45' '0.57' '0.65'\n",
      " '0.015' '16' '108' '0.83' '9.2' '86' '0.62' '0.59' '9.1' '5.9' '52'\n",
      " '0.33' '31' '5.8' '0.28' '51' '6.3' '4.4' '9.6' '3.4' '0.09' '24' '0.76'\n",
      " '42' '25' '10' '4.6' '8.6' '0.66' '6.2' '0.79' '28' '0.86' '9.7' '0.84'\n",
      " '17' '18' '55' '14' '3.7' '0.87' '6.7' '0.74' '7.6' '0.065' '0.29' '0.37'\n",
      " '8' '11' '0.48' '44' '7.9' '5' '7.2' '0.89' '0.93' '0.97' '0.12' '6.4'\n",
      " '33' '0.85' '7.1' '0.73' '199' '8.2' '188' '0.22' '98' '22' '6.6' '5.1'\n",
      " '0.06' '0.42' '3.8' '35' '4' '0.78' '0.63' '0.52' '60' '0.43' '5.6' '6.9'\n",
      " '3.6' '29' '0.38' '4.9' '0.41' '9.9' '7.5' '34' '6.5' '4.7' '103' '0.95'\n",
      " '0.14' '0.35' '4.2' '0.81' '0.54' '0.58' '8.9' '5.5' '0.34' '9.3' '0.13'\n",
      " '54' '0.39' '8.3' '478' '21' '6.8' '0.32' '0.23' '0.24' '8.1' '0.91'\n",
      " '5.3' '100' '0.27' '1.01' '58' '41' '183' '18.4' '0.47' '0.17' '12.1'\n",
      " '0.19' '0.82' '43' '0.44' '70' '7.7' '8.4' '0.69' '8.5' '0.21' '82'\n",
      " '0.055' '0.96' '0.71' '38' '0.36' '9.8' '7' '0.46' '11.1' '39' '76' '5.7'\n",
      " '32' '126' '26.4' '0.53' '0.49' '36' '178' '145' '47' '4.8' '10.3' '89'\n",
      " '7.4' '472' '0.51' '116' '61' '99' '46' '78' '468' '14.4' '165' '9.5'\n",
      " '80' '0.56' '30.5' '20' '0.18' '50' '236' '23' '440' '139' '530' '109'\n",
      " '30' '400' '1.02' '230' '5.73' '66' '65' '117' '40']\n",
      "\t\n",
      "['t' 'f']\n",
      "\t\n",
      "['2.5' '2' '?' '1.9' '1.2' '0.6' '2.2' '1.6' '3.8' '1.7' '1.8' '2.6' '2.1'\n",
      " '0.3' '5.5' '1.4' '3.1' '1.5' '2.3' '2.4' '2.7' '0.9' '1' '2.8' '2.9'\n",
      " '0.8' '1.3' '0.4' '3.3' '3.5' '3.4' '1.1' '4.2' '3.7' '3' '0.7' '4.8'\n",
      " '4.3' '0.05' '3.2' '5.4' '4' '0.5' '0.2' '3.6' '5.2' '5' '6' '5.3' '3.9'\n",
      " '4.6' '4.5' '7.3' '4.7' '6.7' '4.1' '6.1' '0.1' '4.9' '10.6' '5.1' '7'\n",
      " '6.2' '4.4' '7.1' '8.5' '1.44' '7.6' '5.7' '6.6']\n",
      "\t\n",
      "['t' 'f']\n",
      "\t\n",
      "['125' '102' '109' '175' '61' '183' '72' '80' '123' '83' '115' '152' '171'\n",
      " '97' '99' '70' '117' '121' '130' '108' '104' '134' '199' '57' '129' '113'\n",
      " '119' '84' '81' '95' '66' '101' '147' '120' '69' '?' '39' '87' '63' '133'\n",
      " '86' '163' '162' '103' '96' '151' '112' '82' '138' '71' '77' '93' '107'\n",
      " '237' '110' '67' '88' '160' '118' '136' '114' '116' '94' '161' '11' '32'\n",
      " '124' '137' '92' '135' '105' '150' '126' '146' '91' '217' '141' '159'\n",
      " '122' '100' '111' '140' '205' '225' '85' '90' '74' '219' '127' '132'\n",
      " '128' '106' '144' '131' '56' '79' '142' '98' '177' '139' '78' '189' '180'\n",
      " '73' '145' '184' '38' '156' '75' '148' '14' '76' '54' '58' '27' '65'\n",
      " '193' '13' '143' '12' '64' '257' '164' '59' '167' '18' '41' '176' '37'\n",
      " '33' '44' '45' '154' '174' '203' '244' '62' '158' '60' '187' '250' '181'\n",
      " '157' '223' '272' '166' '213' '235' '10' '68' '231' '191' '48' '5.8'\n",
      " '169' '149' '210' '40' '155' '232' '42' '204' '430' '198' '230' '15'\n",
      " '170' '165' '47' '168' '194' '89' '52' '179' '192' '172' '4.8' '50' '182'\n",
      " '197' '214' '246' '196' '207' '19' '153' '22' '46' '200' '35' '226' '201'\n",
      " '233' '206' '31' '255' '178' '239' '195' '6' '36' '2' '3' '289' '240'\n",
      " '209' '43' '34' '252' '29' '263' '301' '23' '188' '211' '253' '21' '173'\n",
      " '261' '248' '51' '25' '53' '17' '220' '256' '9.5' '212' '273' '222' '186'\n",
      " '49' '372' '16' '28' '24' '4' '30' '2.9' '55' '216' '258']\n",
      "\t\n",
      "['t' 'f']\n",
      "\t\n",
      "['1.14' '?' '0.91' '0.87' '1.3' '0.92' '0.7' '0.93' '0.89' '0.95' '0.99'\n",
      " '1.13' '0.86' '0.96' '0.94' '0.9' '1.02' '1.05' '0.62' '1.06' '1.55'\n",
      " '0.83' '1.09' '1.07' '1.27' '0.76' '1.16' '1' '0.56' '0.81' '0.68' '0.78'\n",
      " '0.85' '1.35' '1.15' '0.82' '1.03' '1.58' '0.79' '1.17' '0.71' '0.72'\n",
      " '0.88' '1.11' '1.2' '1.1' '1.33' '0.77' '1.24' '0.53' '1.44' '1.63'\n",
      " '1.51' '1.42' '1.23' '1.01' '0.98' '0.61' '1.12' '1.43' '1.25' '1.41'\n",
      " '1.68' '0.97' '0.84' '0.8' '1.04' '0.73' '1.08' '1.26' '1.46' '1.29'\n",
      " '1.34' '1.66' '1.21' '1.19' '0.75' '0.52' '1.83' '1.39' '1.5' '1.93'\n",
      " '1.18' '0.74' '0.58' '1.82' '0.6' '1.67' '1.22' '0.66' '0.67' '1.31'\n",
      " '0.54' '1.77' '1.59' '1.97' '1.69' '1.38' '1.28' '1.4' '0.69' '0.65'\n",
      " '1.74' '2.03' '1.73' '1.65' '1.36' '1.52' '0.57' '1.53' '1.84' '1.57'\n",
      " '1.75' '1.32' '1.37' '0.64' '1.79' '1.8' '0.48' '1.71' '1.62' '1.76'\n",
      " '1.56' '1.48' '0.59' '0.31' '1.94' '2.12' '1.47' '0.63' '0.944' '0.49'\n",
      " '1.88' '0.5' '0.38' '1.49' '0.41' '1.61' '1.7' '2.32' '0.46' '1.45'\n",
      " '1.54' '0.47' '0.36' '2.01' '0.25']\n",
      "\t\n",
      "['t' 'f']\n",
      "\t\n",
      "['109' '?' '120' '70' '141' '78' '115' '132' '93' '121' '153' '151' '107'\n",
      " '119' '87' '81' '104' '130' '106' '116' '131' '190' '92' '102' '76' '98'\n",
      " '90' '61' '94' '129' '95' '91' '33' '113' '148' '140' '171' '155' '186'\n",
      " '122' '136' '110' '111' '97' '72' '100' '88' '67' '84' '103' '135' '203'\n",
      " '112' '117' '180' '142' '145' '156' '96' '134' '8.9' '60' '139' '41' '99'\n",
      " '89' '146' '124' '105' '85' '157' '143' '71' '221' '28' '108' '137' '83'\n",
      " '74' '170' '65' '101' '127' '274' '154' '114' '62' '86' '126' '125' '64'\n",
      " '172' '162' '79' '118' '73' '152' '163' '149' '14' '51' '165' '77' '32'\n",
      " '69' '80' '11' '54' '164' '123' '144' '10' '214' '200' '160' '53' '16'\n",
      " '138' '169' '56' '47' '133' '43' '68' '179' '224' '220' '82' '362' '182'\n",
      " '75' '66' '161' '57' '58' '312' '63' '128' '147' '158' '281' '207' '216'\n",
      " '251' '194' '46' '7' '42' '174' '395' '185' '13' '201' '48' '173' '167'\n",
      " '188' '150' '235' '175' '159' '5.4' '189' '59' '166' '34' '228' '232'\n",
      " '217' '177' '176' '195' '219' '17' '210' '168' '205' '39' '187' '50'\n",
      " '349' '52' '206' '253' '242' '244' '213' '178' '247' '215' '198' '19'\n",
      " '237' '37' '7.6' '24' '2' '3' '191' '223' '9' '29' '222' '204' '26' '218'\n",
      " '197' '49' '209' '183' '265' '199' '196' '20' '283' '36' '249' '181'\n",
      " '8.4' '291' '55' '245' '18' '40' '8.5' '184' '4' '21' '280' '2.8' '9.1'\n",
      " '27' '15' '35' '227']\n",
      "\t\n",
      "['f']\n",
      "\t\n",
      "['?']\n",
      "\t\n",
      "['SVHC' 'other' 'SVI' 'STMW' 'SVHD']\n",
      "\t\n",
      "['P' 'N']\n"
     ]
    }
   ],
   "source": [
    "# Checking for unique values in all columns in the dataset\n",
    "for uni in hypothyroid_df.columns:\n",
    "#   print(hypothyroid_df.columns)\n",
    "  print(\"\\t\")\n",
    "  print(hypothyroid_df[uni].unique())\n"
   ]
  },
  {
   "cell_type": "code",
   "execution_count": 10,
   "id": "869c73f3",
   "metadata": {},
   "outputs": [],
   "source": [
    "# replace \"?\" with NAN \n",
    "hypothyroid_df = hypothyroid_df.replace({\"?\":np.NAN})\n"
   ]
  },
  {
   "cell_type": "code",
   "execution_count": 11,
   "id": "7f468f6b",
   "metadata": {},
   "outputs": [
    {
     "data": {
      "text/plain": [
       "age                          float64\n",
       "sex                           object\n",
       "on thyroxine                  object\n",
       "query on thyroxine            object\n",
       "on antithyroid medication     object\n",
       "sick                          object\n",
       "pregnant                      object\n",
       "thyroid surgery               object\n",
       "I131 treatment                object\n",
       "query hypothyroid             object\n",
       "query hyperthyroid            object\n",
       "lithium                       object\n",
       "goitre                        object\n",
       "tumor                         object\n",
       "hypopituitary                 object\n",
       "psych                         object\n",
       "TSH measured                  object\n",
       "TSH                          float64\n",
       "T3 measured                   object\n",
       "T3                           float64\n",
       "TT4 measured                  object\n",
       "TT4                          float64\n",
       "T4U measured                  object\n",
       "T4U                          float64\n",
       "FTI measured                  object\n",
       "FTI                          float64\n",
       "TBG measured                  object\n",
       "TBG                          float64\n",
       "referral source               object\n",
       "binaryClass                   object\n",
       "dtype: object"
      ]
     },
     "execution_count": 11,
     "metadata": {},
     "output_type": "execute_result"
    }
   ],
   "source": [
    "# convert object to float\n",
    "hypothyroid_df[['age','TSH','T3','TT4','T4U','FTI', \"TBG\"]] = hypothyroid_df[['age','TSH','T3','TT4','T4U','FTI', \"TBG\"]].astype(float)\n",
    "hypothyroid_df.dtypes\n"
   ]
  },
  {
   "cell_type": "code",
   "execution_count": 12,
   "id": "c989ccbf",
   "metadata": {},
   "outputs": [
    {
     "data": {
      "text/plain": [
       "age                             1\n",
       "sex                           150\n",
       "on thyroxine                    0\n",
       "query on thyroxine              0\n",
       "on antithyroid medication       0\n",
       "sick                            0\n",
       "pregnant                        0\n",
       "thyroid surgery                 0\n",
       "I131 treatment                  0\n",
       "query hypothyroid               0\n",
       "query hyperthyroid              0\n",
       "lithium                         0\n",
       "goitre                          0\n",
       "tumor                           0\n",
       "hypopituitary                   0\n",
       "psych                           0\n",
       "TSH measured                    0\n",
       "TSH                           369\n",
       "T3 measured                     0\n",
       "T3                            769\n",
       "TT4 measured                    0\n",
       "TT4                           231\n",
       "T4U measured                    0\n",
       "T4U                           387\n",
       "FTI measured                    0\n",
       "FTI                           385\n",
       "TBG measured                    0\n",
       "TBG                          3772\n",
       "referral source                 0\n",
       "binaryClass                     0\n",
       "dtype: int64"
      ]
     },
     "execution_count": 12,
     "metadata": {},
     "output_type": "execute_result"
    }
   ],
   "source": [
    "#handling missing values in the features \n",
    "hypothyroid_df.isnull().sum()"
   ]
  },
  {
   "cell_type": "markdown",
   "id": "f9122c1f",
   "metadata": {},
   "source": [
    "### Handling missing values"
   ]
  },
  {
   "cell_type": "code",
   "execution_count": 13,
   "id": "7c2f7970",
   "metadata": {},
   "outputs": [
    {
     "data": {
      "text/html": [
       "<div>\n",
       "<style scoped>\n",
       "    .dataframe tbody tr th:only-of-type {\n",
       "        vertical-align: middle;\n",
       "    }\n",
       "\n",
       "    .dataframe tbody tr th {\n",
       "        vertical-align: top;\n",
       "    }\n",
       "\n",
       "    .dataframe thead th {\n",
       "        text-align: right;\n",
       "    }\n",
       "</style>\n",
       "<table border=\"1\" class=\"dataframe\">\n",
       "  <thead>\n",
       "    <tr style=\"text-align: right;\">\n",
       "      <th></th>\n",
       "      <th>age</th>\n",
       "      <th>sex</th>\n",
       "      <th>on thyroxine</th>\n",
       "      <th>query on thyroxine</th>\n",
       "      <th>on antithyroid medication</th>\n",
       "      <th>sick</th>\n",
       "      <th>pregnant</th>\n",
       "      <th>thyroid surgery</th>\n",
       "      <th>I131 treatment</th>\n",
       "      <th>query hypothyroid</th>\n",
       "      <th>...</th>\n",
       "      <th>TT4 measured</th>\n",
       "      <th>TT4</th>\n",
       "      <th>T4U measured</th>\n",
       "      <th>T4U</th>\n",
       "      <th>FTI measured</th>\n",
       "      <th>FTI</th>\n",
       "      <th>TBG measured</th>\n",
       "      <th>TBG</th>\n",
       "      <th>referral source</th>\n",
       "      <th>binaryClass</th>\n",
       "    </tr>\n",
       "  </thead>\n",
       "  <tbody>\n",
       "    <tr>\n",
       "      <th>0</th>\n",
       "      <td>41.0</td>\n",
       "      <td>F</td>\n",
       "      <td>f</td>\n",
       "      <td>f</td>\n",
       "      <td>f</td>\n",
       "      <td>f</td>\n",
       "      <td>f</td>\n",
       "      <td>f</td>\n",
       "      <td>f</td>\n",
       "      <td>f</td>\n",
       "      <td>...</td>\n",
       "      <td>t</td>\n",
       "      <td>125.000000</td>\n",
       "      <td>t</td>\n",
       "      <td>1.140</td>\n",
       "      <td>t</td>\n",
       "      <td>109.000000</td>\n",
       "      <td>f</td>\n",
       "      <td>NaN</td>\n",
       "      <td>SVHC</td>\n",
       "      <td>P</td>\n",
       "    </tr>\n",
       "    <tr>\n",
       "      <th>1</th>\n",
       "      <td>23.0</td>\n",
       "      <td>F</td>\n",
       "      <td>f</td>\n",
       "      <td>f</td>\n",
       "      <td>f</td>\n",
       "      <td>f</td>\n",
       "      <td>f</td>\n",
       "      <td>f</td>\n",
       "      <td>f</td>\n",
       "      <td>f</td>\n",
       "      <td>...</td>\n",
       "      <td>t</td>\n",
       "      <td>102.000000</td>\n",
       "      <td>f</td>\n",
       "      <td>0.995</td>\n",
       "      <td>f</td>\n",
       "      <td>110.469649</td>\n",
       "      <td>f</td>\n",
       "      <td>NaN</td>\n",
       "      <td>other</td>\n",
       "      <td>P</td>\n",
       "    </tr>\n",
       "    <tr>\n",
       "      <th>2</th>\n",
       "      <td>46.0</td>\n",
       "      <td>M</td>\n",
       "      <td>f</td>\n",
       "      <td>f</td>\n",
       "      <td>f</td>\n",
       "      <td>f</td>\n",
       "      <td>f</td>\n",
       "      <td>f</td>\n",
       "      <td>f</td>\n",
       "      <td>f</td>\n",
       "      <td>...</td>\n",
       "      <td>t</td>\n",
       "      <td>109.000000</td>\n",
       "      <td>t</td>\n",
       "      <td>0.910</td>\n",
       "      <td>t</td>\n",
       "      <td>120.000000</td>\n",
       "      <td>f</td>\n",
       "      <td>NaN</td>\n",
       "      <td>other</td>\n",
       "      <td>P</td>\n",
       "    </tr>\n",
       "    <tr>\n",
       "      <th>3</th>\n",
       "      <td>70.0</td>\n",
       "      <td>F</td>\n",
       "      <td>t</td>\n",
       "      <td>f</td>\n",
       "      <td>f</td>\n",
       "      <td>f</td>\n",
       "      <td>f</td>\n",
       "      <td>f</td>\n",
       "      <td>f</td>\n",
       "      <td>f</td>\n",
       "      <td>...</td>\n",
       "      <td>t</td>\n",
       "      <td>175.000000</td>\n",
       "      <td>f</td>\n",
       "      <td>0.995</td>\n",
       "      <td>f</td>\n",
       "      <td>110.469649</td>\n",
       "      <td>f</td>\n",
       "      <td>NaN</td>\n",
       "      <td>other</td>\n",
       "      <td>P</td>\n",
       "    </tr>\n",
       "    <tr>\n",
       "      <th>4</th>\n",
       "      <td>70.0</td>\n",
       "      <td>F</td>\n",
       "      <td>f</td>\n",
       "      <td>f</td>\n",
       "      <td>f</td>\n",
       "      <td>f</td>\n",
       "      <td>f</td>\n",
       "      <td>f</td>\n",
       "      <td>f</td>\n",
       "      <td>f</td>\n",
       "      <td>...</td>\n",
       "      <td>t</td>\n",
       "      <td>61.000000</td>\n",
       "      <td>t</td>\n",
       "      <td>0.870</td>\n",
       "      <td>t</td>\n",
       "      <td>70.000000</td>\n",
       "      <td>f</td>\n",
       "      <td>NaN</td>\n",
       "      <td>SVI</td>\n",
       "      <td>P</td>\n",
       "    </tr>\n",
       "    <tr>\n",
       "      <th>...</th>\n",
       "      <td>...</td>\n",
       "      <td>...</td>\n",
       "      <td>...</td>\n",
       "      <td>...</td>\n",
       "      <td>...</td>\n",
       "      <td>...</td>\n",
       "      <td>...</td>\n",
       "      <td>...</td>\n",
       "      <td>...</td>\n",
       "      <td>...</td>\n",
       "      <td>...</td>\n",
       "      <td>...</td>\n",
       "      <td>...</td>\n",
       "      <td>...</td>\n",
       "      <td>...</td>\n",
       "      <td>...</td>\n",
       "      <td>...</td>\n",
       "      <td>...</td>\n",
       "      <td>...</td>\n",
       "      <td>...</td>\n",
       "      <td>...</td>\n",
       "    </tr>\n",
       "    <tr>\n",
       "      <th>3767</th>\n",
       "      <td>30.0</td>\n",
       "      <td>F</td>\n",
       "      <td>f</td>\n",
       "      <td>f</td>\n",
       "      <td>f</td>\n",
       "      <td>f</td>\n",
       "      <td>f</td>\n",
       "      <td>f</td>\n",
       "      <td>f</td>\n",
       "      <td>f</td>\n",
       "      <td>...</td>\n",
       "      <td>f</td>\n",
       "      <td>108.319345</td>\n",
       "      <td>f</td>\n",
       "      <td>0.995</td>\n",
       "      <td>f</td>\n",
       "      <td>110.469649</td>\n",
       "      <td>f</td>\n",
       "      <td>NaN</td>\n",
       "      <td>other</td>\n",
       "      <td>P</td>\n",
       "    </tr>\n",
       "    <tr>\n",
       "      <th>3768</th>\n",
       "      <td>68.0</td>\n",
       "      <td>F</td>\n",
       "      <td>f</td>\n",
       "      <td>f</td>\n",
       "      <td>f</td>\n",
       "      <td>f</td>\n",
       "      <td>f</td>\n",
       "      <td>f</td>\n",
       "      <td>f</td>\n",
       "      <td>f</td>\n",
       "      <td>...</td>\n",
       "      <td>t</td>\n",
       "      <td>124.000000</td>\n",
       "      <td>t</td>\n",
       "      <td>1.080</td>\n",
       "      <td>t</td>\n",
       "      <td>114.000000</td>\n",
       "      <td>f</td>\n",
       "      <td>NaN</td>\n",
       "      <td>SVI</td>\n",
       "      <td>P</td>\n",
       "    </tr>\n",
       "    <tr>\n",
       "      <th>3769</th>\n",
       "      <td>74.0</td>\n",
       "      <td>F</td>\n",
       "      <td>f</td>\n",
       "      <td>f</td>\n",
       "      <td>f</td>\n",
       "      <td>f</td>\n",
       "      <td>f</td>\n",
       "      <td>f</td>\n",
       "      <td>f</td>\n",
       "      <td>f</td>\n",
       "      <td>...</td>\n",
       "      <td>t</td>\n",
       "      <td>112.000000</td>\n",
       "      <td>t</td>\n",
       "      <td>1.070</td>\n",
       "      <td>t</td>\n",
       "      <td>105.000000</td>\n",
       "      <td>f</td>\n",
       "      <td>NaN</td>\n",
       "      <td>other</td>\n",
       "      <td>P</td>\n",
       "    </tr>\n",
       "    <tr>\n",
       "      <th>3770</th>\n",
       "      <td>72.0</td>\n",
       "      <td>M</td>\n",
       "      <td>f</td>\n",
       "      <td>f</td>\n",
       "      <td>f</td>\n",
       "      <td>f</td>\n",
       "      <td>f</td>\n",
       "      <td>f</td>\n",
       "      <td>f</td>\n",
       "      <td>f</td>\n",
       "      <td>...</td>\n",
       "      <td>t</td>\n",
       "      <td>82.000000</td>\n",
       "      <td>t</td>\n",
       "      <td>0.940</td>\n",
       "      <td>t</td>\n",
       "      <td>87.000000</td>\n",
       "      <td>f</td>\n",
       "      <td>NaN</td>\n",
       "      <td>SVI</td>\n",
       "      <td>P</td>\n",
       "    </tr>\n",
       "    <tr>\n",
       "      <th>3771</th>\n",
       "      <td>64.0</td>\n",
       "      <td>F</td>\n",
       "      <td>f</td>\n",
       "      <td>f</td>\n",
       "      <td>f</td>\n",
       "      <td>f</td>\n",
       "      <td>f</td>\n",
       "      <td>f</td>\n",
       "      <td>f</td>\n",
       "      <td>f</td>\n",
       "      <td>...</td>\n",
       "      <td>t</td>\n",
       "      <td>99.000000</td>\n",
       "      <td>t</td>\n",
       "      <td>1.070</td>\n",
       "      <td>t</td>\n",
       "      <td>92.000000</td>\n",
       "      <td>f</td>\n",
       "      <td>NaN</td>\n",
       "      <td>other</td>\n",
       "      <td>P</td>\n",
       "    </tr>\n",
       "  </tbody>\n",
       "</table>\n",
       "<p>3772 rows × 30 columns</p>\n",
       "</div>"
      ],
      "text/plain": [
       "       age sex on thyroxine query on thyroxine on antithyroid medication sick  \\\n",
       "0     41.0   F            f                  f                         f    f   \n",
       "1     23.0   F            f                  f                         f    f   \n",
       "2     46.0   M            f                  f                         f    f   \n",
       "3     70.0   F            t                  f                         f    f   \n",
       "4     70.0   F            f                  f                         f    f   \n",
       "...    ...  ..          ...                ...                       ...  ...   \n",
       "3767  30.0   F            f                  f                         f    f   \n",
       "3768  68.0   F            f                  f                         f    f   \n",
       "3769  74.0   F            f                  f                         f    f   \n",
       "3770  72.0   M            f                  f                         f    f   \n",
       "3771  64.0   F            f                  f                         f    f   \n",
       "\n",
       "     pregnant thyroid surgery I131 treatment query hypothyroid  ...  \\\n",
       "0           f               f              f                 f  ...   \n",
       "1           f               f              f                 f  ...   \n",
       "2           f               f              f                 f  ...   \n",
       "3           f               f              f                 f  ...   \n",
       "4           f               f              f                 f  ...   \n",
       "...       ...             ...            ...               ...  ...   \n",
       "3767        f               f              f                 f  ...   \n",
       "3768        f               f              f                 f  ...   \n",
       "3769        f               f              f                 f  ...   \n",
       "3770        f               f              f                 f  ...   \n",
       "3771        f               f              f                 f  ...   \n",
       "\n",
       "     TT4 measured         TT4 T4U measured    T4U FTI measured         FTI  \\\n",
       "0               t  125.000000            t  1.140            t  109.000000   \n",
       "1               t  102.000000            f  0.995            f  110.469649   \n",
       "2               t  109.000000            t  0.910            t  120.000000   \n",
       "3               t  175.000000            f  0.995            f  110.469649   \n",
       "4               t   61.000000            t  0.870            t   70.000000   \n",
       "...           ...         ...          ...    ...          ...         ...   \n",
       "3767            f  108.319345            f  0.995            f  110.469649   \n",
       "3768            t  124.000000            t  1.080            t  114.000000   \n",
       "3769            t  112.000000            t  1.070            t  105.000000   \n",
       "3770            t   82.000000            t  0.940            t   87.000000   \n",
       "3771            t   99.000000            t  1.070            t   92.000000   \n",
       "\n",
       "     TBG measured  TBG referral source  binaryClass  \n",
       "0               f  NaN            SVHC            P  \n",
       "1               f  NaN           other            P  \n",
       "2               f  NaN           other            P  \n",
       "3               f  NaN           other            P  \n",
       "4               f  NaN             SVI            P  \n",
       "...           ...  ...             ...          ...  \n",
       "3767            f  NaN           other            P  \n",
       "3768            f  NaN             SVI            P  \n",
       "3769            f  NaN           other            P  \n",
       "3770            f  NaN             SVI            P  \n",
       "3771            f  NaN           other            P  \n",
       "\n",
       "[3772 rows x 30 columns]"
      ]
     },
     "execution_count": 13,
     "metadata": {},
     "output_type": "execute_result"
    }
   ],
   "source": [
    "#fill the missing values with the mean\n",
    "miss_cols = ['FTI','TSH','T3','TT4','T4U', 'TBG']\n",
    "for i in miss_cols:\n",
    "    hypothyroid_df[i] = hypothyroid_df[i].fillna(hypothyroid_df[i].mean())\n",
    "hypothyroid_df"
   ]
  },
  {
   "cell_type": "code",
   "execution_count": 14,
   "id": "515facf7",
   "metadata": {},
   "outputs": [
    {
     "data": {
      "text/plain": [
       "age                             0\n",
       "sex                             0\n",
       "on thyroxine                    0\n",
       "query on thyroxine              0\n",
       "on antithyroid medication       0\n",
       "sick                            0\n",
       "pregnant                        0\n",
       "thyroid surgery                 0\n",
       "I131 treatment                  0\n",
       "query hypothyroid               0\n",
       "query hyperthyroid              0\n",
       "lithium                         0\n",
       "goitre                          0\n",
       "tumor                           0\n",
       "hypopituitary                   0\n",
       "psych                           0\n",
       "TSH measured                    0\n",
       "TSH                             0\n",
       "T3 measured                     0\n",
       "T3                              0\n",
       "TT4 measured                    0\n",
       "TT4                             0\n",
       "T4U measured                    0\n",
       "T4U                             0\n",
       "FTI measured                    0\n",
       "FTI                             0\n",
       "TBG measured                    0\n",
       "TBG                          3772\n",
       "referral source                 0\n",
       "binaryClass                     0\n",
       "dtype: int64"
      ]
     },
     "execution_count": 14,
     "metadata": {},
     "output_type": "execute_result"
    }
   ],
   "source": [
    "#fill age and sex column with mode imputation\n",
    "hypothyroid_df['age'] = hypothyroid_df['age'].fillna(hypothyroid_df['age'].mode()[0])\n",
    "hypothyroid_df['sex'] = hypothyroid_df['sex'].fillna(hypothyroid_df['sex'].mode()[0])\n",
    "hypothyroid_df.isnull().sum()"
   ]
  },
  {
   "cell_type": "code",
   "execution_count": 15,
   "id": "7fd1cc55",
   "metadata": {},
   "outputs": [],
   "source": [
    "# feature TBG will be removed because it has over 91% missing values\n",
    "del hypothyroid_df[\"TBG\"]"
   ]
  },
  {
   "cell_type": "code",
   "execution_count": 16,
   "id": "1260871e",
   "metadata": {},
   "outputs": [
    {
     "data": {
      "text/plain": [
       "age                          0\n",
       "sex                          0\n",
       "on thyroxine                 0\n",
       "query on thyroxine           0\n",
       "on antithyroid medication    0\n",
       "sick                         0\n",
       "pregnant                     0\n",
       "thyroid surgery              0\n",
       "I131 treatment               0\n",
       "query hypothyroid            0\n",
       "query hyperthyroid           0\n",
       "lithium                      0\n",
       "goitre                       0\n",
       "tumor                        0\n",
       "hypopituitary                0\n",
       "psych                        0\n",
       "TSH measured                 0\n",
       "TSH                          0\n",
       "T3 measured                  0\n",
       "T3                           0\n",
       "TT4 measured                 0\n",
       "TT4                          0\n",
       "T4U measured                 0\n",
       "T4U                          0\n",
       "FTI measured                 0\n",
       "FTI                          0\n",
       "TBG measured                 0\n",
       "referral source              0\n",
       "binaryClass                  0\n",
       "dtype: int64"
      ]
     },
     "execution_count": 16,
     "metadata": {},
     "output_type": "execute_result"
    }
   ],
   "source": [
    "#checking for empty feature\n",
    "hypothyroid_df.isnull().sum()"
   ]
  },
  {
   "cell_type": "code",
   "execution_count": 17,
   "id": "020e4165",
   "metadata": {},
   "outputs": [
    {
     "data": {
      "text/plain": [
       "63"
      ]
     },
     "execution_count": 17,
     "metadata": {},
     "output_type": "execute_result"
    }
   ],
   "source": [
    "# checking sum of duplicates in the dataset\n",
    "hypothyroid_df.duplicated().sum()"
   ]
  },
  {
   "cell_type": "code",
   "execution_count": 18,
   "id": "ba777ce0",
   "metadata": {},
   "outputs": [],
   "source": [
    "#dropping duplicates\n",
    "hypothyroid_df = hypothyroid_df.drop_duplicates(keep=False)"
   ]
  },
  {
   "cell_type": "code",
   "execution_count": 19,
   "id": "51bcd2f3",
   "metadata": {},
   "outputs": [
    {
     "data": {
      "image/png": "[encoded data removed]",
      "text/plain": [
       "<Figure size 432x288 with 2 Axes>"
      ]
     },
     "metadata": {
      "needs_background": "light"
     },
     "output_type": "display_data"
    }
   ],
   "source": [
    "#Building heatmap to check correlations\n",
    "sns.heatmap(round(hypothyroid_df.corr(), 1),annot=True,cmap='viridis')\n",
    "sns.set(rc={'figure.figsize':(20,20)})\n",
    "plt.title('Heatmap of co-relation',fontsize=15)\n",
    "plt.show()"
   ]
  },
  {
   "cell_type": "code",
   "execution_count": 20,
   "id": "e5d0acad",
   "metadata": {},
   "outputs": [
    {
     "data": {
      "text/plain": [
       "age                           93\n",
       "sex                            2\n",
       "on thyroxine                   2\n",
       "query on thyroxine             2\n",
       "on antithyroid medication      2\n",
       "sick                           2\n",
       "pregnant                       2\n",
       "thyroid surgery                2\n",
       "I131 treatment                 2\n",
       "query hypothyroid              2\n",
       "query hyperthyroid             2\n",
       "lithium                        2\n",
       "goitre                         2\n",
       "tumor                          2\n",
       "hypopituitary                  2\n",
       "psych                          2\n",
       "TSH measured                   2\n",
       "TSH                          288\n",
       "T3 measured                    2\n",
       "T3                            70\n",
       "TT4 measured                   2\n",
       "TT4                          242\n",
       "T4U measured                   2\n",
       "T4U                          147\n",
       "FTI measured                   2\n",
       "FTI                          235\n",
       "TBG measured                   1\n",
       "referral source                5\n",
       "binaryClass                    2\n",
       "dtype: int64"
      ]
     },
     "execution_count": 20,
     "metadata": {},
     "output_type": "execute_result"
    }
   ],
   "source": [
    "# getting the features with more distinct elements and relation \n",
    "hypothyroid_df.nunique()"
   ]
  },
  {
   "cell_type": "markdown",
   "id": "6981d888",
   "metadata": {},
   "source": [
    "## EDA"
   ]
  },
  {
   "cell_type": "code",
   "execution_count": 21,
   "id": "cc803313",
   "metadata": {},
   "outputs": [
    {
     "data": {
      "image/png": "[encoded data removed]",
      "text/plain": [
       "<Figure size 648x432 with 1 Axes>"
      ]
     },
     "metadata": {},
     "output_type": "display_data"
    }
   ],
   "source": [
    "#displaying the count of target variable\n",
    "plt.figure(figsize=(9,6))\n",
    "sns.countplot(x='binaryClass',data=hypothyroid_df)\n",
    "plt.title(\"Countplot for Target variable\")\n",
    "plt.show()"
   ]
  },
  {
   "cell_type": "code",
   "execution_count": 22,
   "id": "419be764",
   "metadata": {},
   "outputs": [
    {
     "data": {
      "text/plain": [
       "Text(0.5, 1.0, 'Distribution of Positive Class Based on Age')"
      ]
     },
     "execution_count": 22,
     "metadata": {},
     "output_type": "execute_result"
    },
    {
     "data": {
      "image/png": "[encoded data removed]",
      "text/plain": [
       "<Figure size 648x432 with 1 Axes>"
      ]
     },
     "metadata": {},
     "output_type": "display_data"
    }
   ],
   "source": [
    "# distribution of positive class based on age\n",
    "plt.figure(figsize=(9,6))\n",
    "positive_thyroid_df = hypothyroid_df[hypothyroid_df.binaryClass == 'P']\n",
    "sns.histplot(x = 'age',data = positive_thyroid_df, color='blue')\n",
    "plt.title(\"Distribution of Positive Class Based on Age\")"
   ]
  },
  {
   "cell_type": "code",
   "execution_count": 23,
   "id": "e9880cec",
   "metadata": {},
   "outputs": [
    {
     "data": {
      "text/plain": [
       "Text(0.5, 1.0, 'Distribution of negative Class Based on Age')"
      ]
     },
     "execution_count": 23,
     "metadata": {},
     "output_type": "execute_result"
    },
    {
     "data": {
      "image/png": "[encoded data removed]",
      "text/plain": [
       "<Figure size 648x432 with 1 Axes>"
      ]
     },
     "metadata": {},
     "output_type": "display_data"
    }
   ],
   "source": [
    "# distribution of negative class based on age\n",
    "plt.figure(figsize=(9,6))\n",
    "negative_thyroid_df = hypothyroid_df[hypothyroid_df.binaryClass == 'N']\n",
    "sns.histplot(x = 'age',data = negative_thyroid_df, color='green')\n",
    "plt.title(\"Distribution of negative Class Based on Age\")\n"
   ]
  },
  {
   "cell_type": "code",
   "execution_count": 24,
   "id": "a93e597f",
   "metadata": {},
   "outputs": [
    {
     "data": {
      "text/plain": [
       "<matplotlib.legend.Legend at 0x258bb18a588>"
      ]
     },
     "execution_count": 24,
     "metadata": {},
     "output_type": "execute_result"
    },
    {
     "data": {
      "image/png": "[encoded data removed]",
      "text/plain": [
       "<Figure size 720x576 with 1 Axes>"
      ]
     },
     "metadata": {},
     "output_type": "display_data"
    }
   ],
   "source": [
    "#Distribution of sex\n",
    "plt.figure(figsize=(10,8))\n",
    "plt.pie(x=positive_thyroid_df.sex.value_counts(),\n",
    "        labels=['Female','Male'],\n",
    "        startangle = 90,\n",
    "        colors=['springgreen','orange'],\n",
    "        autopct='%.2f'\n",
    "       );\n",
    "plt.legend()"
   ]
  },
  {
   "cell_type": "code",
   "execution_count": 25,
   "id": "e042c4ed",
   "metadata": {},
   "outputs": [
    {
     "data": {
      "image/png": "[encoded data removed]",
      "text/plain": [
       "<Figure size 576x576 with 1 Axes>"
      ]
     },
     "metadata": {},
     "output_type": "display_data"
    }
   ],
   "source": [
    "#distribution of sick against well \n",
    "plt.figure(figsize=(8,8))\n",
    "plt.pie(x=positive_thyroid_df.sick.value_counts(),\n",
    "        labels=['Sick','Well'],\n",
    "        startangle = 20,\n",
    "        colors=['skyblue','red'],\n",
    "        autopct='%.2f',\n",
    "        explode=[0,0.2]\n",
    "       );\n",
    "plt.legend();"
   ]
  },
  {
   "cell_type": "code",
   "execution_count": 26,
   "id": "09e1744c",
   "metadata": {},
   "outputs": [
    {
     "data": {
      "text/plain": [
       "<AxesSubplot:xlabel='T3', ylabel='Density'>"
      ]
     },
     "execution_count": 26,
     "metadata": {},
     "output_type": "execute_result"
    },
    {
     "data": {
      "image/png": "[encoded data removed]",
      "text/plain": [
       "<Figure size 576x576 with 1 Axes>"
      ]
     },
     "metadata": {},
     "output_type": "display_data"
    }
   ],
   "source": [
    "#distribution of T3\n",
    "sns.set(rc={'figure.figsize': [8, 8]}, font_scale=1.2)\n",
    "sns.distplot(hypothyroid_df['T3'])"
   ]
  },
  {
   "cell_type": "code",
   "execution_count": 27,
   "id": "6e516e7a",
   "metadata": {},
   "outputs": [
    {
     "data": {
      "text/plain": [
       "<AxesSubplot:xlabel='TT4', ylabel='Density'>"
      ]
     },
     "execution_count": 27,
     "metadata": {},
     "output_type": "execute_result"
    },
    {
     "data": {
      "image/png": "[encoded data removed]",
      "text/plain": [
       "<Figure size 576x576 with 1 Axes>"
      ]
     },
     "metadata": {},
     "output_type": "display_data"
    }
   ],
   "source": [
    "#distribution of TT4\n",
    "sns.distplot(hypothyroid_df['TT4'])"
   ]
  },
  {
   "cell_type": "code",
   "execution_count": 28,
   "id": "3bb22623",
   "metadata": {},
   "outputs": [
    {
     "data": {
      "text/plain": [
       "<AxesSubplot:xlabel='T4U', ylabel='Density'>"
      ]
     },
     "execution_count": 28,
     "metadata": {},
     "output_type": "execute_result"
    },
    {
     "data": {
      "image/png": "[encoded data removed]",
      "text/plain": [
       "<Figure size 576x576 with 1 Axes>"
      ]
     },
     "metadata": {},
     "output_type": "display_data"
    }
   ],
   "source": [
    "#distribution of T4U\n",
    "sns.distplot(hypothyroid_df['T4U'])"
   ]
  },
  {
   "cell_type": "code",
   "execution_count": 29,
   "id": "ca67c5a3",
   "metadata": {},
   "outputs": [
    {
     "data": {
      "text/plain": [
       "<AxesSubplot:xlabel='FTI', ylabel='Density'>"
      ]
     },
     "execution_count": 29,
     "metadata": {},
     "output_type": "execute_result"
    },
    {
     "data": {
      "image/png": "[encoded data removed]",
      "text/plain": [
       "<Figure size 576x576 with 1 Axes>"
      ]
     },
     "metadata": {},
     "output_type": "display_data"
    }
   ],
   "source": [
    "#distribution of FTI\n",
    "sns.distplot(hypothyroid_df['FTI'])"
   ]
  },
  {
   "cell_type": "code",
   "execution_count": 30,
   "id": "a76b4b73",
   "metadata": {},
   "outputs": [
    {
     "data": {
      "text/plain": [
       "<seaborn.axisgrid.JointGrid at 0x258bc240808>"
      ]
     },
     "execution_count": 30,
     "metadata": {},
     "output_type": "execute_result"
    },
    {
     "data": {
      "image/png": "[encoded data removed]",
      "text/plain": [
       "<Figure size 576x576 with 3 Axes>"
      ]
     },
     "metadata": {},
     "output_type": "display_data"
    }
   ],
   "source": [
    "#distribution of age and TT4\n",
    "sns.jointplot(x='age', y='TT4', data=hypothyroid_df, kind='scatter', height=8, color='m')"
   ]
  },
  {
   "cell_type": "code",
   "execution_count": 31,
   "id": "ae78c870",
   "metadata": {},
   "outputs": [
    {
     "data": {
      "text/plain": [
       "<AxesSubplot:xlabel='binaryClass', ylabel='count'>"
      ]
     },
     "execution_count": 31,
     "metadata": {},
     "output_type": "execute_result"
    },
    {
     "data": {
      "image/png": "[encoded data removed]",
      "text/plain": [
       "<Figure size 576x576 with 1 Axes>"
      ]
     },
     "metadata": {},
     "output_type": "display_data"
    }
   ],
   "source": [
    "#distribution of dependent variable and sex\n",
    "sns.countplot(x='binaryClass', data=hypothyroid_df, hue='sex', palette='BuPu')"
   ]
  },
  {
   "cell_type": "code",
   "execution_count": 33,
   "id": "5f7c97e9",
   "metadata": {},
   "outputs": [
    {
     "data": {
      "text/html": [
       "<div>\n",
       "<style scoped>\n",
       "    .dataframe tbody tr th:only-of-type {\n",
       "        vertical-align: middle;\n",
       "    }\n",
       "\n",
       "    .dataframe tbody tr th {\n",
       "        vertical-align: top;\n",
       "    }\n",
       "\n",
       "    .dataframe thead th {\n",
       "        text-align: right;\n",
       "    }\n",
       "</style>\n",
       "<table border=\"1\" class=\"dataframe\">\n",
       "  <thead>\n",
       "    <tr style=\"text-align: right;\">\n",
       "      <th></th>\n",
       "      <th>age</th>\n",
       "      <th>TSH</th>\n",
       "      <th>T3</th>\n",
       "      <th>TT4</th>\n",
       "      <th>T4U</th>\n",
       "      <th>FTI</th>\n",
       "    </tr>\n",
       "  </thead>\n",
       "  <tbody>\n",
       "    <tr>\n",
       "      <th>age</th>\n",
       "      <td>1.000000</td>\n",
       "      <td>-0.056858</td>\n",
       "      <td>-0.217095</td>\n",
       "      <td>-0.038723</td>\n",
       "      <td>-0.158990</td>\n",
       "      <td>0.049647</td>\n",
       "    </tr>\n",
       "    <tr>\n",
       "      <th>TSH</th>\n",
       "      <td>-0.056858</td>\n",
       "      <td>1.000000</td>\n",
       "      <td>-0.147334</td>\n",
       "      <td>-0.261439</td>\n",
       "      <td>0.071045</td>\n",
       "      <td>-0.293234</td>\n",
       "    </tr>\n",
       "    <tr>\n",
       "      <th>T3</th>\n",
       "      <td>-0.217095</td>\n",
       "      <td>-0.147334</td>\n",
       "      <td>1.000000</td>\n",
       "      <td>0.509175</td>\n",
       "      <td>0.407247</td>\n",
       "      <td>0.308943</td>\n",
       "    </tr>\n",
       "    <tr>\n",
       "      <th>TT4</th>\n",
       "      <td>-0.038723</td>\n",
       "      <td>-0.261439</td>\n",
       "      <td>0.509175</td>\n",
       "      <td>1.000000</td>\n",
       "      <td>0.426681</td>\n",
       "      <td>0.778983</td>\n",
       "    </tr>\n",
       "    <tr>\n",
       "      <th>T4U</th>\n",
       "      <td>-0.158990</td>\n",
       "      <td>0.071045</td>\n",
       "      <td>0.407247</td>\n",
       "      <td>0.426681</td>\n",
       "      <td>1.000000</td>\n",
       "      <td>-0.173953</td>\n",
       "    </tr>\n",
       "    <tr>\n",
       "      <th>FTI</th>\n",
       "      <td>0.049647</td>\n",
       "      <td>-0.293234</td>\n",
       "      <td>0.308943</td>\n",
       "      <td>0.778983</td>\n",
       "      <td>-0.173953</td>\n",
       "      <td>1.000000</td>\n",
       "    </tr>\n",
       "  </tbody>\n",
       "</table>\n",
       "</div>"
      ],
      "text/plain": [
       "          age       TSH        T3       TT4       T4U       FTI\n",
       "age  1.000000 -0.056858 -0.217095 -0.038723 -0.158990  0.049647\n",
       "TSH -0.056858  1.000000 -0.147334 -0.261439  0.071045 -0.293234\n",
       "T3  -0.217095 -0.147334  1.000000  0.509175  0.407247  0.308943\n",
       "TT4 -0.038723 -0.261439  0.509175  1.000000  0.426681  0.778983\n",
       "T4U -0.158990  0.071045  0.407247  0.426681  1.000000 -0.173953\n",
       "FTI  0.049647 -0.293234  0.308943  0.778983 -0.173953  1.000000"
      ]
     },
     "execution_count": 33,
     "metadata": {},
     "output_type": "execute_result"
    }
   ],
   "source": [
    "#feature correlation\n",
    "hypothyroid_df_corr = hypothyroid_df.corr()\n",
    "hypothyroid_df_corr"
   ]
  },
  {
   "cell_type": "code",
   "execution_count": 34,
   "id": "45013a53",
   "metadata": {},
   "outputs": [],
   "source": [
    "# 'referral source' into indicator columns of 0s and 1s (dummies)\n",
    "hypothyroid_df = pd.get_dummies(hypothyroid_df, columns=['referral source'])"
   ]
  },
  {
   "cell_type": "markdown",
   "id": "1641d60b",
   "metadata": {},
   "source": [
    "### Transform non-numerical labels to numerical labels."
   ]
  },
  {
   "cell_type": "code",
   "execution_count": 35,
   "id": "96ad9528",
   "metadata": {},
   "outputs": [],
   "source": [
    "#convert target variable to numeric\n",
    "hypothyroid_df[\"binaryClass\"] = hypothyroid_df[\"binaryClass\"].replace({\"P\":1,\"N\":0})"
   ]
  },
  {
   "cell_type": "code",
   "execution_count": 36,
   "id": "5c6b644f",
   "metadata": {},
   "outputs": [],
   "source": [
    "#extracting independent variable\n",
    "X = hypothyroid_df.drop('binaryClass',axis=1)"
   ]
  },
  {
   "cell_type": "code",
   "execution_count": 37,
   "id": "7273a947",
   "metadata": {},
   "outputs": [],
   "source": [
    "#extracting dependent variable\n",
    "y = hypothyroid_df.binaryClass"
   ]
  },
  {
   "cell_type": "code",
   "execution_count": 38,
   "id": "d2e8499c",
   "metadata": {},
   "outputs": [
    {
     "name": "stdout",
     "output_type": "stream",
     "text": [
      "There are a total of 6 numerical features in the dataset.\n",
      "There are a total of 21 categorical features in the dataset.\n"
     ]
    }
   ],
   "source": [
    "#encoding the independent variable \n",
    "numerical_features = list()\n",
    "categorical_features = list()\n",
    "for column in X.columns:\n",
    "    # In the dataset we only have float and int64.\n",
    "    if (hypothyroid_df[column].dtype == 'float64' or hypothyroid_df[column].dtype == 'int64'):\n",
    "        numerical_features.append(column)\n",
    "    # Categorical\n",
    "    elif (hypothyroid_df[column].dtype == 'object' or hypothyroid_df[column].dtype == 'bool'):\n",
    "        categorical_features.append(column)\n",
    "        \n",
    "print('There are a total of {} numerical features in the dataset.'.format(len(numerical_features)))\n",
    "print('There are a total of {} categorical features in the dataset.'.format(len(categorical_features)))"
   ]
  },
  {
   "cell_type": "code",
   "execution_count": 39,
   "id": "d8690e08",
   "metadata": {},
   "outputs": [
    {
     "data": {
      "image/png": "[encoded data removed]",
      "text/plain": [
       "<Figure size 1440x1080 with 6 Axes>"
      ]
     },
     "metadata": {},
     "output_type": "display_data"
    }
   ],
   "source": [
    "#visualization of numerical features\n",
    "X_num_total = X[numerical_features]\n",
    "X_num_total.hist(bins=50,figsize=(20, 15))\n",
    "plt.show()"
   ]
  },
  {
   "cell_type": "code",
   "execution_count": 40,
   "id": "82eb7fe4",
   "metadata": {},
   "outputs": [],
   "source": [
    "# categorical feature list\n",
    "categorical_features_index = list()\n",
    "# Encode categorical features, get the indexes of categorical \n",
    "for p in categorical_features:\n",
    "    categorical_features_index.append(X.columns.get_loc(p))\n",
    "    X[p] = LabelEncoder().fit_transform(X[p])"
   ]
  },
  {
   "cell_type": "code",
   "execution_count": 41,
   "id": "6fd944d8",
   "metadata": {},
   "outputs": [
    {
     "data": {
      "text/plain": [
       "(3675,)"
      ]
     },
     "execution_count": 41,
     "metadata": {},
     "output_type": "execute_result"
    }
   ],
   "source": [
    "#encoding the dependent variable\n",
    "labelencoder_y = LabelEncoder()  \n",
    "y = labelencoder_y.fit_transform(y)\n",
    "y.shape"
   ]
  },
  {
   "cell_type": "markdown",
   "id": "bd08e962",
   "metadata": {},
   "source": [
    "### Split original data into training data and testing data"
   ]
  },
  {
   "cell_type": "code",
   "execution_count": 42,
   "id": "30e547b8",
   "metadata": {},
   "outputs": [
    {
     "data": {
      "text/plain": [
       "(2940, 735)"
      ]
     },
     "execution_count": 42,
     "metadata": {},
     "output_type": "execute_result"
    }
   ],
   "source": [
    "#splitting the data to 80-20%\n",
    "X_train, X_test, y_train, y_test= train_test_split(X, y, test_size= 0.2, random_state=11)  \n",
    "len(X_train), len(X_test)"
   ]
  },
  {
   "cell_type": "markdown",
   "id": "973b7c8c",
   "metadata": {},
   "source": [
    "### Feature scaling or normalization"
   ]
  },
  {
   "cell_type": "code",
   "execution_count": 43,
   "id": "32f38af2",
   "metadata": {},
   "outputs": [
    {
     "data": {
      "text/plain": [
       "(2940, 2940)"
      ]
     },
     "execution_count": 43,
     "metadata": {},
     "output_type": "execute_result"
    }
   ],
   "source": [
    "#standardize the independent variables of the dataset \n",
    "st_X= StandardScaler()  \n",
    "X_train= st_X.fit_transform(X_train) \n",
    "len(X_train), len(y_train)"
   ]
  },
  {
   "cell_type": "code",
   "execution_count": 44,
   "id": "a97ee4e9",
   "metadata": {},
   "outputs": [
    {
     "data": {
      "text/plain": [
       "array([[ 0.19584354, -0.67807192, -0.38001864, ..., -0.10323073,\n",
       "        -0.62455658,  0.86843342],\n",
       "       [-1.52275619, -0.67807192, -0.38001864, ..., -0.10323073,\n",
       "        -0.62455658,  0.86843342],\n",
       "       [ 0.24494639,  1.47476981, -0.38001864, ..., -0.10323073,\n",
       "        -0.62455658,  0.86843342],\n",
       "       ...,\n",
       "       [ 1.52162048, -0.67807192, -0.38001864, ..., -0.10323073,\n",
       "        -0.62455658,  0.86843342],\n",
       "       [ 0.63776919, -0.67807192, -0.38001864, ..., -0.10323073,\n",
       "        -0.62455658,  0.86843342],\n",
       "       [ 0.53956349, -0.67807192, -0.38001864, ..., -0.10323073,\n",
       "        -0.62455658,  0.86843342]])"
      ]
     },
     "execution_count": 44,
     "metadata": {},
     "output_type": "execute_result"
    }
   ],
   "source": [
    "#transforming the independent variable test\n",
    "X_test= st_X.transform(X_test) \n",
    "X_test"
   ]
  },
  {
   "cell_type": "markdown",
   "id": "3742486f",
   "metadata": {},
   "source": [
    "## MODEL"
   ]
  },
  {
   "cell_type": "markdown",
   "id": "6dae9b53",
   "metadata": {},
   "source": [
    "### Fitting KNN to the Training set"
   ]
  },
  {
   "cell_type": "code",
   "execution_count": 45,
   "id": "56081181",
   "metadata": {},
   "outputs": [
    {
     "data": {
      "text/plain": [
       "KNeighborsClassifier(n_neighbors=54)"
      ]
     },
     "execution_count": 45,
     "metadata": {},
     "output_type": "execute_result"
    }
   ],
   "source": [
    "from sklearn.neighbors import KNeighborsClassifier  \n",
    "classifier= KNeighborsClassifier(n_neighbors=54) \n",
    "#training the model using training set\n",
    "classifier.fit(X_train, y_train)  "
   ]
  },
  {
   "cell_type": "code",
   "execution_count": 46,
   "id": "953a0a8b",
   "metadata": {},
   "outputs": [],
   "source": [
    "# Predicting and training the Test Result\n",
    "classifier_predict_train = classifier.predict(X_train)\n",
    "classifier_predict_test= classifier.predict(X_test) "
   ]
  },
  {
   "cell_type": "code",
   "execution_count": 47,
   "id": "493957e8",
   "metadata": {},
   "outputs": [
    {
     "name": "stdout",
     "output_type": "stream",
     "text": [
      "Prediction on training set 0.9346938775510204\n",
      "Prediction on testing set 0.9333333333333333\n"
     ]
    }
   ],
   "source": [
    "from sklearn.metrics import accuracy_score\n",
    "# checking the accuracy score of the test and train set\n",
    "print('Prediction on training set', accuracy_score(classifier_predict_train, y_train))\n",
    "print('Prediction on testing set', accuracy_score(classifier_predict_test, y_test))"
   ]
  },
  {
   "cell_type": "markdown",
   "id": "ef3b6ca6",
   "metadata": {},
   "source": [
    "## Feature Selection"
   ]
  },
  {
   "cell_type": "markdown",
   "id": "0ce16da8",
   "metadata": {},
   "source": [
    "### Feature Importance"
   ]
  },
  {
   "cell_type": "code",
   "execution_count": 48,
   "id": "0790d997",
   "metadata": {},
   "outputs": [
    {
     "name": "stdout",
     "output_type": "stream",
     "text": [
      "[3.29209691e-02 6.26402570e-03 5.69488736e-02 1.18936799e-03\n",
      " 6.81917256e-04 1.97216292e-03 3.26352551e-04 1.17383681e-02\n",
      " 1.13819973e-03 7.21736019e-03 1.88779044e-03 5.73396501e-04\n",
      " 6.25295014e-04 1.30038732e-03 1.19347050e-06 1.22465254e-03\n",
      " 2.60907555e-03 5.75937272e-01 4.50054528e-03 4.15943730e-02\n",
      " 7.94983892e-04 8.54904330e-02 1.75164689e-03 3.48761227e-02\n",
      " 1.86394562e-03 1.11662425e-01 0.00000000e+00 2.32481430e-03\n",
      " 1.69687659e-03 6.29869484e-04 4.12207141e-03 4.13523363e-03]\n"
     ]
    }
   ],
   "source": [
    "# feature extraction\n",
    "FeatureImportance = RandomForestClassifier()\n",
    "FeatureImportance.fit(X_train, y_train)\n",
    "print(FeatureImportance.feature_importances_)"
   ]
  },
  {
   "cell_type": "code",
   "execution_count": 49,
   "id": "7bb83378",
   "metadata": {},
   "outputs": [
    {
     "data": {
      "text/plain": [
       "Text(0.5, 1.0, 'Barchart showing the feature importance for KNN Model')"
      ]
     },
     "execution_count": 49,
     "metadata": {},
     "output_type": "execute_result"
    },
    {
     "data": {
      "image/png": "[encoded data removed]",
      "text/plain": [
       "<Figure size 1440x720 with 1 Axes>"
      ]
     },
     "metadata": {},
     "output_type": "display_data"
    }
   ],
   "source": [
    "#chart to visualize the feature importance\n",
    "plt.subplots(figsize=(20,10))\n",
    "sns.barplot([X for X in range(len(FeatureImportance.feature_importances_))], FeatureImportance.feature_importances_)\n",
    "plt.xlabel('Features')\n",
    "plt.ylabel('Feature Importance score')\n",
    "plt.title('Barchart showing the feature importance for KNN Model')"
   ]
  },
  {
   "cell_type": "code",
   "execution_count": 50,
   "id": "a9311ff7",
   "metadata": {},
   "outputs": [],
   "source": [
    "#using the new cols as the selected feature\n",
    "cols =[ 'age', 'sex', 'on thyroxine', 'thyroid surgery', 'query hypothyroid', 'query hyperthyroid','TSH measured', 'TSH',\n",
    "       'T3 measured', 'T3', 'TT4', 'T4U', 'FTI','referral source_SVHD','referral source_SVI', 'referral source_other']\n",
    "X_new= X[cols]\n",
    "y_new= y"
   ]
  },
  {
   "cell_type": "code",
   "execution_count": 51,
   "id": "d614451c",
   "metadata": {},
   "outputs": [],
   "source": [
    "#list(enumerate(hypothyroid_df.columns))"
   ]
  },
  {
   "cell_type": "code",
   "execution_count": 52,
   "id": "01a82e39",
   "metadata": {},
   "outputs": [],
   "source": [
    "#encoding the new independent variable\n",
    "X_new = X_new.apply(LabelEncoder().fit_transform)\n",
    "X_new_array = X_new.to_numpy()"
   ]
  },
  {
   "cell_type": "code",
   "execution_count": 53,
   "id": "70387fd2",
   "metadata": {},
   "outputs": [],
   "source": [
    "#encoding the new dependent variable\n",
    "Labelencoder_y_new= LabelEncoder()  \n",
    "y_new = Labelencoder_y_new.fit_transform(y)"
   ]
  },
  {
   "cell_type": "code",
   "execution_count": 54,
   "id": "bf8c7ae4",
   "metadata": {},
   "outputs": [
    {
     "data": {
      "text/plain": [
       "(735,)"
      ]
     },
     "execution_count": 54,
     "metadata": {},
     "output_type": "execute_result"
    }
   ],
   "source": [
    "#splitting the dataset 80-20%\n",
    "X_new_train, X_new_test, y_new_train, y_new_test = train_test_split( X_new_array, y_new, test_size=0.2, random_state=11)\n",
    "y_new_test.shape"
   ]
  },
  {
   "cell_type": "code",
   "execution_count": 55,
   "id": "9352a032",
   "metadata": {},
   "outputs": [
    {
     "data": {
      "text/plain": [
       "(3675, 16)"
      ]
     },
     "execution_count": 55,
     "metadata": {},
     "output_type": "execute_result"
    }
   ],
   "source": [
    "X_new.shape"
   ]
  },
  {
   "cell_type": "code",
   "execution_count": 56,
   "id": "7d3f0db9",
   "metadata": {},
   "outputs": [
    {
     "data": {
      "text/plain": [
       "(2940, 2940)"
      ]
     },
     "execution_count": 56,
     "metadata": {},
     "output_type": "execute_result"
    }
   ],
   "source": [
    "#standardize the independent variables of the dataset\n",
    "st_X= StandardScaler()  \n",
    "X_KNN_train= st_X.fit_transform(X_new_train) \n",
    "X_KNN_test = st_X.fit_transform(X_new_test)\n",
    "len(X_new_train), len(y_new_train)"
   ]
  },
  {
   "cell_type": "code",
   "execution_count": 57,
   "id": "d3fe270c",
   "metadata": {},
   "outputs": [
    {
     "data": {
      "text/plain": [
       "KNeighborsClassifier(n_neighbors=54)"
      ]
     },
     "execution_count": 57,
     "metadata": {},
     "output_type": "execute_result"
    }
   ],
   "source": [
    "# Predicting and training the Test Result\n",
    "final_classifier = KNeighborsClassifier(n_neighbors=54) \n",
    "#training the model using training set\n",
    "final_classifier.fit(X_KNN_train, y_new_train) "
   ]
  },
  {
   "cell_type": "code",
   "execution_count": 58,
   "id": "3bda6f91",
   "metadata": {},
   "outputs": [],
   "source": [
    "# Predicting and training the Test Result\n",
    "final_classifier_predict_train_KNN = final_classifier.predict(X_KNN_train)\n",
    "final_classifier_predict_test_KNN = final_classifier.predict(X_KNN_test)"
   ]
  },
  {
   "cell_type": "code",
   "execution_count": 59,
   "id": "1981ac21",
   "metadata": {},
   "outputs": [
    {
     "name": "stdout",
     "output_type": "stream",
     "text": [
      "Prediction on training set 0.9414965986394558\n",
      "Prediction on testing set 0.9428571428571428\n"
     ]
    }
   ],
   "source": [
    "# checking the accuracy score of the test and train set\n",
    "print('Prediction on training set', accuracy_score(final_classifier_predict_train_KNN, y_new_train))\n",
    "print('Prediction on testing set', accuracy_score(final_classifier_predict_test_KNN, y_new_test))"
   ]
  },
  {
   "cell_type": "markdown",
   "id": "467ccc62",
   "metadata": {},
   "source": [
    "### Confusion Matrix"
   ]
  },
  {
   "cell_type": "code",
   "execution_count": 60,
   "id": "fda7f592",
   "metadata": {},
   "outputs": [],
   "source": [
    "# Creating the confusion matrix\n",
    "def get_matrix(name, y_mat_test, mat_classifier_predict_test):\n",
    "    conf_matrix = metrics.confusion_matrix(y_mat_test, mat_classifier_predict_test)\n",
    "    \n",
    "    # Assigning columns names\n",
    "\n",
    "    # Showing the confusion matrix\n",
    "    # save confusion matrix and slice into four pieces\n",
    "\n",
    "    TP = conf_matrix[1][1]\n",
    "    TN = conf_matrix[0][0]\n",
    "    FP = conf_matrix[0][1]\n",
    "    FN = conf_matrix[1][0]\n",
    "    print('True Positives:', TP)\n",
    "    print('True Negatives:', TN)\n",
    "    print('False Positives:', FP)\n",
    "    print('False Negatives:', FN)\n",
    "\n",
    "    # calculate accuracy\n",
    "    conf_accuracy = (float (TP+TN) / float(TP + TN + FP + FN))\n",
    "\n",
    "    # calculate mis-classification\n",
    "    conf_misclassification = 1- conf_accuracy\n",
    "\n",
    "    # calculate the recall\n",
    "    conf_recall = (TP / float(TP + FN))\n",
    "\n",
    "    # calculate the True Negative Rate\n",
    "    conf_True_Negative_Rate = (TN / float(TN + FP))\n",
    "\n",
    "    # calculate precision\n",
    "    conf_precision = (TN / float(TN + FP))\n",
    "\n",
    "    # calculate f_1 score\n",
    "    conf_f1 = 2 * ((conf_precision * conf_recall) / (conf_precision + conf_recall))\n",
    "\n",
    "    print('-'*50)\n",
    "    print(f'Accuracy: {round(conf_accuracy,4)}') \n",
    "    print(f'Mis-Classification: {round(conf_misclassification,2)}') \n",
    "    print(f'Sensitivity: {round(conf_recall,2)}') \n",
    "    print(f'Specificity: {round(conf_True_Negative_Rate,2)}') \n",
    "    print(f'Precision: {round(conf_precision,2)}')\n",
    "    print(f'f_1 Score: {round(conf_f1,2)}')\n",
    "    print('-'*50)\n",
    "    print(name + ' confusion matrix is:')\n",
    "    print(conf_matrix)"
   ]
  },
  {
   "cell_type": "code",
   "execution_count": 61,
   "id": "f81913d0",
   "metadata": {},
   "outputs": [
    {
     "name": "stdout",
     "output_type": "stream",
     "text": [
      "True Positives: 678\n",
      "True Negatives: 15\n",
      "False Positives: 42\n",
      "False Negatives: 0\n",
      "--------------------------------------------------\n",
      "Accuracy: 0.9429\n",
      "Mis-Classification: 0.06\n",
      "Sensitivity: 1.0\n",
      "Specificity: 0.26\n",
      "Precision: 0.26\n",
      "f_1 Score: 0.42\n",
      "--------------------------------------------------\n",
      "feature importance confusion matrix is:\n",
      "[[ 15  42]\n",
      " [  0 678]]\n"
     ]
    }
   ],
   "source": [
    "#conf_matrix on feature importance \n",
    "get_matrix('feature importance', y_new_test, final_classifier_predict_test_KNN)"
   ]
  },
  {
   "cell_type": "markdown",
   "id": "96538e6b",
   "metadata": {},
   "source": [
    "### Univarate feature selection"
   ]
  },
  {
   "cell_type": "code",
   "execution_count": 62,
   "id": "e9110f9b",
   "metadata": {},
   "outputs": [
    {
     "name": "stdout",
     "output_type": "stream",
     "text": [
      "Feature 0: 0.006287\n",
      "Feature 1: 9.245346\n",
      "Feature 2: 19.633047\n",
      "Feature 3: 1.890490\n",
      "Feature 4: 1.031709\n",
      "Feature 5: 0.164140\n",
      "Feature 6: 3.686680\n",
      "Feature 7: 1.729407\n",
      "Feature 8: 0.289018\n",
      "Feature 9: 29.467948\n",
      "Feature 10: 0.818815\n",
      "Feature 11: 0.012788\n",
      "Feature 12: 2.709931\n",
      "Feature 13: 0.070160\n",
      "Feature 14: 0.086448\n",
      "Feature 15: 5.473782\n",
      "Feature 16: 20.898817\n",
      "Feature 17: 681.951792\n",
      "Feature 18: 1.573382\n",
      "Feature 19: 103.818778\n",
      "Feature 20: 6.065907\n",
      "Feature 21: 278.808888\n",
      "Feature 22: 0.006030\n",
      "Feature 23: 1.477757\n",
      "Feature 24: 0.003315\n",
      "Feature 25: 320.785576\n",
      "Feature 26: nan\n",
      "Feature 27: 0.556259\n",
      "Feature 28: 13.214054\n",
      "Feature 29: 0.126184\n",
      "Feature 30: 5.416318\n",
      "Feature 31: 0.128384\n"
     ]
    },
    {
     "data": {
      "image/png": "[encoded data removed]",
      "text/plain": [
       "<Figure size 576x576 with 1 Axes>"
      ]
     },
     "metadata": {},
     "output_type": "display_data"
    }
   ],
   "source": [
    "#fitting univarate feature selection on the dataset\n",
    "test = SelectKBest(score_func=f_classif, k=7)\n",
    "fit = test.fit(X_train, y_train)\n",
    "X_train_fit = fit.transform(X_train)\n",
    "X_test_fit = fit.transform(X_test)\n",
    "#univarate feature selection\n",
    "for i in range(len(fit.scores_)):\n",
    "    print('Feature %d: %f' % (i, fit.scores_[i]))\n",
    "plt.bar([i for i in range(len(fit.scores_))], fit.scores_)\n",
    "    \n",
    "plt.show()"
   ]
  },
  {
   "cell_type": "code",
   "execution_count": 63,
   "id": "b67b6dbd",
   "metadata": {},
   "outputs": [
    {
     "data": {
      "text/plain": [
       "KNeighborsClassifier(n_neighbors=54)"
      ]
     },
     "execution_count": 63,
     "metadata": {},
     "output_type": "execute_result"
    }
   ],
   "source": [
    "\n",
    "classifier= KNeighborsClassifier(n_neighbors=54) \n",
    "#training the model using training set\n",
    "classifier.fit(X_train_fit, y_train)  "
   ]
  },
  {
   "cell_type": "code",
   "execution_count": 64,
   "id": "fef970d1",
   "metadata": {},
   "outputs": [],
   "source": [
    "# Predicting and training the Test Result\n",
    "classifier_predict_train_Uni = classifier.predict(X_train_fit)\n",
    "classifier_predict_test_Uni= classifier.predict(X_test_fit) "
   ]
  },
  {
   "cell_type": "code",
   "execution_count": 65,
   "id": "dcc0bddb",
   "metadata": {},
   "outputs": [
    {
     "name": "stdout",
     "output_type": "stream",
     "text": [
      "Prediction on training set 0.9435374149659864\n",
      "Prediction on testing set 0.9455782312925171\n"
     ]
    }
   ],
   "source": [
    "\n",
    "# checking the accuracy score of the test and train set\n",
    "print('Prediction on training set', accuracy_score(classifier_predict_train_Uni, y_train))\n",
    "print('Prediction on testing set', accuracy_score(classifier_predict_test_Uni, y_test))"
   ]
  },
  {
   "cell_type": "code",
   "execution_count": 66,
   "id": "67225ff2",
   "metadata": {},
   "outputs": [
    {
     "name": "stdout",
     "output_type": "stream",
     "text": [
      "True Positives: 677\n",
      "True Negatives: 18\n",
      "False Positives: 39\n",
      "False Negatives: 1\n",
      "--------------------------------------------------\n",
      "Accuracy: 0.9456\n",
      "Mis-Classification: 0.05\n",
      "Sensitivity: 1.0\n",
      "Specificity: 0.32\n",
      "Precision: 0.32\n",
      "f_1 Score: 0.48\n",
      "--------------------------------------------------\n",
      "univarate confusion matrix is:\n",
      "[[ 18  39]\n",
      " [  1 677]]\n"
     ]
    }
   ],
   "source": [
    "#conf matrix on univarate\n",
    "get_matrix('univarate', y_test, classifier_predict_test_Uni)"
   ]
  },
  {
   "cell_type": "markdown",
   "id": "ba556563",
   "metadata": {},
   "source": [
    "### Recursive feature elimination"
   ]
  },
  {
   "cell_type": "code",
   "execution_count": 67,
   "id": "616e0506",
   "metadata": {},
   "outputs": [
    {
     "name": "stdout",
     "output_type": "stream",
     "text": [
      "Num Features: 16\n",
      "Selected Features: [ True  True  True False False False False  True False  True  True False\n",
      " False False False False  True  True  True  True False  True False  True\n",
      "  True  True False False False False  True  True]\n",
      "Feature Ranking: [ 1  1  1 10 11  6 13  1  7  1  1 15 12  5 16  8  1  1  1  1 14  1  4  1\n",
      "  1  1 17  2  3  9  1  1]\n",
      "Feature 0: 1.000000\n",
      "Feature 1: 1.000000\n",
      "Feature 2: 1.000000\n",
      "Feature 3: 10.000000\n",
      "Feature 4: 11.000000\n",
      "Feature 5: 6.000000\n",
      "Feature 6: 13.000000\n",
      "Feature 7: 1.000000\n",
      "Feature 8: 7.000000\n",
      "Feature 9: 1.000000\n",
      "Feature 10: 1.000000\n",
      "Feature 11: 15.000000\n",
      "Feature 12: 12.000000\n",
      "Feature 13: 5.000000\n",
      "Feature 14: 16.000000\n",
      "Feature 15: 8.000000\n",
      "Feature 16: 1.000000\n",
      "Feature 17: 1.000000\n",
      "Feature 18: 1.000000\n",
      "Feature 19: 1.000000\n",
      "Feature 20: 14.000000\n",
      "Feature 21: 1.000000\n",
      "Feature 22: 4.000000\n",
      "Feature 23: 1.000000\n",
      "Feature 24: 1.000000\n",
      "Feature 25: 1.000000\n",
      "Feature 26: 17.000000\n",
      "Feature 27: 2.000000\n",
      "Feature 28: 3.000000\n",
      "Feature 29: 9.000000\n",
      "Feature 30: 1.000000\n",
      "Feature 31: 1.000000\n"
     ]
    },
    {
     "data": {
      "image/png": "[encoded data removed]",
      "text/plain": [
       "<Figure size 576x576 with 1 Axes>"
      ]
     },
     "metadata": {},
     "output_type": "display_data"
    }
   ],
   "source": [
    "#fitting dataset using RFE\n",
    "classifier = RandomForestClassifier()\n",
    "rfe = RFE(classifier)\n",
    "fit = rfe.fit(X_train,y_train)\n",
    "\n",
    "X_train_fit_RFE = fit.transform(X_train)\n",
    "X_test_fit_RFE = fit.transform(X_test)\n",
    "\n",
    "\n",
    "print(\"Num Features: %d\" % fit.n_features_)\n",
    "print(\"Selected Features: %s\" % fit.support_)\n",
    "print(\"Feature Ranking: %s\" % fit.ranking_)\n",
    "for i in range(len(fit.support_)):\n",
    "    print('Feature %d: %f' % (i, fit.ranking_[i]))\n",
    "plt.bar([i for i in range(len(fit.ranking_))], fit.ranking_)\n",
    "    \n",
    "plt.show()"
   ]
  },
  {
   "cell_type": "code",
   "execution_count": 68,
   "id": "d0be2840",
   "metadata": {},
   "outputs": [
    {
     "name": "stdout",
     "output_type": "stream",
     "text": [
      "Num Features: 16\n",
      "Selected Features: [ True  True  True False False False False  True False  True  True False\n",
      " False False False False  True  True  True  True False  True False  True\n",
      "  True  True False False False False  True  True]\n",
      "Feature Ranking: [ 1  1  1 10 11  6 13  1  7  1  1 15 12  5 16  8  1  1  1  1 14  1  4  1\n",
      "  1  1 17  2  3  9  1  1]\n",
      "Feature 0: 1.000000\n",
      "Feature 1: 1.000000\n",
      "Feature 2: 1.000000\n",
      "Feature 3: 10.000000\n",
      "Feature 4: 11.000000\n",
      "Feature 5: 6.000000\n",
      "Feature 6: 13.000000\n",
      "Feature 7: 1.000000\n",
      "Feature 8: 7.000000\n",
      "Feature 9: 1.000000\n",
      "Feature 10: 1.000000\n",
      "Feature 11: 15.000000\n",
      "Feature 12: 12.000000\n",
      "Feature 13: 5.000000\n",
      "Feature 14: 16.000000\n",
      "Feature 15: 8.000000\n",
      "Feature 16: 1.000000\n",
      "Feature 17: 1.000000\n",
      "Feature 18: 1.000000\n",
      "Feature 19: 1.000000\n",
      "Feature 20: 14.000000\n",
      "Feature 21: 1.000000\n",
      "Feature 22: 4.000000\n",
      "Feature 23: 1.000000\n",
      "Feature 24: 1.000000\n",
      "Feature 25: 1.000000\n",
      "Feature 26: 17.000000\n",
      "Feature 27: 2.000000\n",
      "Feature 28: 3.000000\n",
      "Feature 29: 9.000000\n",
      "Feature 30: 1.000000\n",
      "Feature 31: 1.000000\n"
     ]
    },
    {
     "data": {
      "image/png": "[encoded data removed]",
      "text/plain": [
       "<Figure size 576x576 with 1 Axes>"
      ]
     },
     "metadata": {},
     "output_type": "display_data"
    }
   ],
   "source": [
    "X_train_fit_RFE = fit.transform(X_train)\n",
    "X_test_fit_RFE = fit.transform(X_test)\n",
    "\n",
    "print(\"Num Features: %d\" % fit.n_features_)\n",
    "print(\"Selected Features: %s\" % fit.support_)\n",
    "print(\"Feature Ranking: %s\" % fit.ranking_)\n",
    "for i in range(len(fit.support_)):\n",
    "    print('Feature %d: %f' % (i, fit.ranking_[i]))\n",
    "plt.bar([i for i in range(len(fit.ranking_))], fit.ranking_)   \n",
    "plt.show()"
   ]
  },
  {
   "cell_type": "code",
   "execution_count": 69,
   "id": "1f34ddde",
   "metadata": {},
   "outputs": [
    {
     "data": {
      "text/plain": [
       "KNeighborsClassifier(n_neighbors=54)"
      ]
     },
     "execution_count": 69,
     "metadata": {},
     "output_type": "execute_result"
    }
   ],
   "source": [
    "classifier= KNeighborsClassifier(n_neighbors=54)\n",
    "#training the model using training set\n",
    "classifier.fit(X_train_fit_RFE, y_train)  "
   ]
  },
  {
   "cell_type": "code",
   "execution_count": 70,
   "id": "4ed17b99",
   "metadata": {},
   "outputs": [],
   "source": [
    "# Predicting and training the Test Result\n",
    "classifier_predict_train_RFE = classifier.predict(X_train_fit_RFE)\n",
    "classifier_predict_test_RFE = classifier.predict(X_test_fit_RFE)"
   ]
  },
  {
   "cell_type": "code",
   "execution_count": 71,
   "id": "da7fc486",
   "metadata": {},
   "outputs": [
    {
     "name": "stdout",
     "output_type": "stream",
     "text": [
      "Prediction on training set 0.9350340136054421\n",
      "Prediction on testing set 0.9360544217687075\n"
     ]
    }
   ],
   "source": [
    "from sklearn.metrics import accuracy_score\n",
    "# checking the accuracy score of the test and train set\n",
    "print('Prediction on training set', accuracy_score(classifier_predict_train_RFE, y_train))\n",
    "print('Prediction on testing set', accuracy_score(classifier_predict_test_RFE, y_test))"
   ]
  },
  {
   "cell_type": "code",
   "execution_count": 72,
   "id": "50485d14",
   "metadata": {},
   "outputs": [
    {
     "name": "stdout",
     "output_type": "stream",
     "text": [
      "True Positives: 677\n",
      "True Negatives: 11\n",
      "False Positives: 46\n",
      "False Negatives: 1\n",
      "--------------------------------------------------\n",
      "Accuracy: 0.9361\n",
      "Mis-Classification: 0.06\n",
      "Sensitivity: 1.0\n",
      "Specificity: 0.19\n",
      "Precision: 0.19\n",
      "f_1 Score: 0.32\n",
      "--------------------------------------------------\n",
      "recursive confusion matrix is:\n",
      "[[ 11  46]\n",
      " [  1 677]]\n"
     ]
    }
   ],
   "source": [
    "#Conf matrix on recursive\n",
    "get_matrix('recursive', y_test, classifier_predict_test_RFE)"
   ]
  }
 ],
 "metadata": {
  "kernelspec": {
   "display_name": "Python 3.10.5 64-bit",
   "language": "python",
   "name": "python3"
  },
  "language_info": {
   "codemirror_mode": {
    "name": "ipython",
    "version": 3
   },
   "file_extension": ".py",
   "mimetype": "text/x-python",
   "name": "python",
   "nbconvert_exporter": "python",
   "pygments_lexer": "ipython3",
   "version": "3.10.5"
  },
  "vscode": {
   "interpreter": {
    "hash": "bb33f6d328f18c07440802b8c66874c52744b86bff5cfe8eb1d71afeb55a2150"
   }
  }
 },
 "nbformat": 4,
 "nbformat_minor": 5
}
